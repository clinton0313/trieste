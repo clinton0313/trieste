{
 "cells": [
  {
   "cell_type": "markdown",
   "id": "820f3042",
   "metadata": {},
   "source": [
    "# Asynchronous Bayesian optimization with Trieste\n",
    "\n",
    "In this notebook we demonstrate Trieste's ability to perform asynchronous Bayesian optimisation, as is suitable for scenarios where the objective function can be run for several points in parallel but where observations might return back at different times. To avoid wasting resources waiting for the evaluation of the whole batch, we immediately request the next point asynchronously, taking into account points that are still being evaluated. Besides saving resources, asynchronous approach also can potentially [improve sample efficiency](https://arxiv.org/abs/1901.10452) in comparison with synchronous batch strategies, although this is highly dependent on the use case.\n",
    "\n",
    "To contrast this approach with regular [batch optimization](batch_optimization.ipynb), this notebook also shows how to run parallel synchronous batch approach."
   ]
  },
  {
   "cell_type": "code",
   "execution_count": 1,
   "id": "57c676fd",
   "metadata": {
    "execution": {
     "iopub.execute_input": "2022-02-15T12:39:30.728298Z",
     "iopub.status.busy": "2022-02-15T12:39:30.727638Z",
     "iopub.status.idle": "2022-02-15T12:39:32.667533Z",
     "shell.execute_reply": "2022-02-15T12:39:32.666360Z"
    },
    "lines_to_next_cell": 2
   },
   "outputs": [],
   "source": [
    "# silence TF warnings and info messages, only print errors\n",
    "# https://stackoverflow.com/questions/35911252/disable-tensorflow-debugging-information\n",
    "import os\n",
    "\n",
    "os.environ[\"TF_CPP_MIN_LOG_LEVEL\"] = \"3\"\n",
    "import tensorflow as tf\n",
    "\n",
    "tf.get_logger().setLevel(\"ERROR\")\n",
    "import numpy as np\n",
    "import time\n",
    "import timeit"
   ]
  },
  {
   "cell_type": "markdown",
   "id": "715825c1",
   "metadata": {
    "lines_to_next_cell": 0
   },
   "source": [
    "First, let's define a simple objective that will emulate evaluations taking variable time. We will be using a classic Bayesian optimisation benchmark function [Branin](https://www.sfu.ca/~ssurjano/branin.html) with a sleep call inserted in the middle of the calculation to emulate delay. Our sleep delay is a scaled sum of all input values to make sure delays are uneven."
   ]
  },
  {
   "cell_type": "code",
   "execution_count": 2,
   "id": "711d9af0",
   "metadata": {
    "execution": {
     "iopub.execute_input": "2022-02-15T12:39:32.675614Z",
     "iopub.status.busy": "2022-02-15T12:39:32.674693Z",
     "iopub.status.idle": "2022-02-15T12:39:33.223897Z",
     "shell.execute_reply": "2022-02-15T12:39:33.223361Z"
    }
   },
   "outputs": [
    {
     "data": {
      "text/plain": [
       "array([[-0.42052567]])"
      ]
     },
     "execution_count": 2,
     "metadata": {},
     "output_type": "execute_result"
    }
   ],
   "source": [
    "from trieste.objectives import scaled_branin\n",
    "\n",
    "\n",
    "def objective(points, sleep=True):\n",
    "    if points.shape[1] != 2:\n",
    "        raise ValueError(\n",
    "            f\"Incorrect input shape, expected (*, 2), got {points.shape}\"\n",
    "        )\n",
    "\n",
    "    observations = []\n",
    "    for point in points:\n",
    "        observation = scaled_branin(point)\n",
    "        if sleep:\n",
    "            # insert some artificial delay\n",
    "            # increases linearly with the absolute value of points\n",
    "            # which means our evaluations will take different time\n",
    "            delay = 3 * np.sum(point)\n",
    "            pid = os.getpid()\n",
    "            print(\n",
    "                f\"Process {pid}: Objective: pretends like it's doing something for {delay:.2}s\",\n",
    "                flush=True,\n",
    "            )\n",
    "            time.sleep(delay)\n",
    "        observations.append(observation)\n",
    "\n",
    "    return np.array(observations)\n",
    "\n",
    "\n",
    "# test the defined objective function\n",
    "objective(np.array([[0.1, 0.5]]), sleep=False)"
   ]
  },
  {
   "cell_type": "markdown",
   "id": "1dd64f27",
   "metadata": {},
   "source": [
    "As always, we need to prepare the model and some initial data to kick-start the optimization process."
   ]
  },
  {
   "cell_type": "code",
   "execution_count": 3,
   "id": "41ccc14a",
   "metadata": {
    "execution": {
     "iopub.execute_input": "2022-02-15T12:39:33.232775Z",
     "iopub.status.busy": "2022-02-15T12:39:33.231687Z",
     "iopub.status.idle": "2022-02-15T12:39:33.281720Z",
     "shell.execute_reply": "2022-02-15T12:39:33.282536Z"
    },
    "lines_to_next_cell": 2
   },
   "outputs": [],
   "source": [
    "from trieste.space import Box\n",
    "from trieste.data import Dataset\n",
    "from trieste.objectives import SCALED_BRANIN_MINIMUM\n",
    "\n",
    "search_space = Box([0, 0], [1, 1])\n",
    "num_initial_points = 3\n",
    "initial_query_points = search_space.sample(num_initial_points)\n",
    "initial_observations = objective(initial_query_points.numpy(), sleep=False)\n",
    "initial_data = Dataset(\n",
    "    query_points=initial_query_points,\n",
    "    observations=tf.constant(initial_observations, dtype=tf.float64),\n",
    ")\n",
    "\n",
    "import gpflow\n",
    "from trieste.models.gpflow import GaussianProcessRegression, build_gpr\n",
    "\n",
    "# We set the likelihood variance to a small number because\n",
    "# we are dealing with a noise-free problem.\n",
    "gpflow_model = build_gpr(initial_data, search_space, likelihood_variance=1e-7)\n",
    "model = GaussianProcessRegression(gpflow_model)\n",
    "\n",
    "\n",
    "# these imports will be used later for optimization\n",
    "from trieste.acquisition import LocalPenalization\n",
    "from trieste.acquisition.rule import (\n",
    "    AsynchronousGreedy,\n",
    "    EfficientGlobalOptimization,\n",
    ")\n",
    "from trieste.ask_tell_optimization import AskTellOptimizer"
   ]
  },
  {
   "cell_type": "markdown",
   "id": "eea8e847",
   "metadata": {},
   "source": [
    "## Multiprocessing setup\n",
    "\n",
    "To keep this notebook as reproducible as possible, we will only be using Python's multiprocessing package here. In this section we will explain our setup and define some common code to be used later.\n",
    "\n",
    "In both synchronous and asynchronous scenarios we will have a fixed set of worker processes performing observations. We will also have a main process responsible for optimization process with Trieste. When Trieste suggests a new point, it is inserted into a points queue. One of the workers picks this point from the queue, performs the observation, and inserts the output into the observations queue. The main process then picks up the observation from the queue, at which moment it either waits for the rest of the points in the batch to come back (synchronous scenario) or immediately suggests a new point (asynchronous scenario). This process continues either for a certain number of iterations or until we accumulate necessary number of observations.\n",
    "\n",
    "The overall setup is illustrated in this diagram:\n",
    "![multiprocessing setup](figures/async_bo.png)"
   ]
  },
  {
   "cell_type": "code",
   "execution_count": 4,
   "id": "3157c5c4",
   "metadata": {
    "execution": {
     "iopub.execute_input": "2022-02-15T12:39:33.287280Z",
     "iopub.status.busy": "2022-02-15T12:39:33.286570Z",
     "iopub.status.idle": "2022-02-15T12:39:33.291497Z",
     "shell.execute_reply": "2022-02-15T12:39:33.290992Z"
    }
   },
   "outputs": [],
   "source": [
    "# Necessary multiprocessing primitives\n",
    "from multiprocessing import Manager, Process"
   ]
  },
  {
   "cell_type": "markdown",
   "id": "7a28fd76",
   "metadata": {},
   "source": [
    "We now define several common functions to implement the described setup. First we define a worker function that will be running a single observation in a separate process. Worker takes both queues as an input, reads next point from the points queue, makes an observation, and inserts observed data into the observations queue."
   ]
  },
  {
   "cell_type": "code",
   "execution_count": 5,
   "id": "890943ef",
   "metadata": {
    "execution": {
     "iopub.execute_input": "2022-02-15T12:39:33.298090Z",
     "iopub.status.busy": "2022-02-15T12:39:33.297204Z",
     "iopub.status.idle": "2022-02-15T12:39:33.308660Z",
     "shell.execute_reply": "2022-02-15T12:39:33.309387Z"
    },
    "lines_to_next_cell": 2
   },
   "outputs": [],
   "source": [
    "\n",
    "\n",
    "def observer_proc(points_queue, observations_queue):\n",
    "    pid = os.getpid()\n",
    "\n",
    "    while True:\n",
    "        point_to_observe = points_queue.get()\n",
    "        if point_to_observe is None:\n",
    "            return\n",
    "\n",
    "        print(\n",
    "            f\"Process {pid}: Observer : observing data at point {point_to_observe}\",\n",
    "            flush=True,\n",
    "        )\n",
    "        new_observation = objective(point_to_observe, sleep=enable_sleep_delays)\n",
    "        new_data = (point_to_observe, new_observation)\n",
    "\n",
    "        print(f\"Process {pid}: Observer : observed data {new_data}\", flush=True)\n",
    "\n",
    "        observations_queue.put(new_data)"
   ]
  },
  {
   "cell_type": "markdown",
   "id": "e0d4b9a4",
   "metadata": {},
   "source": [
    "Next we define two helper functions, one is to create a certain number of worker processes, and another is to terminate them once we are done."
   ]
  },
  {
   "cell_type": "code",
   "execution_count": 6,
   "id": "5355e8fb",
   "metadata": {
    "execution": {
     "iopub.execute_input": "2022-02-15T12:39:33.315838Z",
     "iopub.status.busy": "2022-02-15T12:39:33.315188Z",
     "iopub.status.idle": "2022-02-15T12:39:33.319050Z",
     "shell.execute_reply": "2022-02-15T12:39:33.319479Z"
    }
   },
   "outputs": [],
   "source": [
    "\n",
    "\n",
    "def create_worker_processes(n_workers, points_queue, obseverations_queue):\n",
    "    observer_processes = []\n",
    "    for i in range(n_workers):\n",
    "        worker_proc = Process(\n",
    "            target=observer_proc, args=(points_queue, obseverations_queue)\n",
    "        )\n",
    "        worker_proc.daemon = True\n",
    "        worker_proc.start()\n",
    "\n",
    "        observer_processes.append(worker_proc)\n",
    "\n",
    "    return observer_processes\n",
    "\n",
    "\n",
    "def terminate_processes(processes):\n",
    "    for prc in processes:\n",
    "        prc.terminate()\n",
    "        prc.join()\n",
    "        prc.close()"
   ]
  },
  {
   "cell_type": "markdown",
   "id": "250b61f1",
   "metadata": {
    "lines_to_next_cell": 0
   },
   "source": [
    "Finally we set some common parameters. See comments below for explanation of what each one means."
   ]
  },
  {
   "cell_type": "code",
   "execution_count": 7,
   "id": "bc592c9e",
   "metadata": {
    "execution": {
     "iopub.execute_input": "2022-02-15T12:39:33.323375Z",
     "iopub.status.busy": "2022-02-15T12:39:33.321760Z",
     "iopub.status.idle": "2022-02-15T12:39:33.326384Z",
     "shell.execute_reply": "2022-02-15T12:39:33.327437Z"
    }
   },
   "outputs": [],
   "source": [
    "# Number of worker processes to run simultaneously\n",
    "# Setting this to 1 will turn both setups into non-batch sequential optimization\n",
    "num_workers = 3\n",
    "# Number of iterations to run the sycnhronous scenario for\n",
    "num_iterations = 10\n",
    "# Number of observations to collect in the asynchronous scenario\n",
    "num_observations = num_workers * num_iterations\n",
    "# Set this flag to False to disable sleep delays in case you want the notebook to execute quickly\n",
    "enable_sleep_delays = True"
   ]
  },
  {
   "cell_type": "markdown",
   "id": "a6c3fda1",
   "metadata": {},
   "source": [
    "## Asynchronous optimization\n",
    "This section runs the asynchronous optimization routine. We first setup the [ask/tell optimizer](ask_tell_optimization.ipynb) as we cannot hand over the evaluation of the objective to Trieste. Next we create thread-safe queues for points and observations, and run the optimization loop.\n",
    "\n",
    "Crucially, even though we are using batch acquisition function Local Penalization, we specify batch size of 1. This is because we don't really want a batch. Since the amount of workers we have is fixed, whenever we see a new observation we only need one point back. However this process can only be done with acquisition functions that implement greedy batch collection strategies, because they are able to take into account points that are currently being observed (in Trieste we call them \"pending\"). Trieste currently provides two such functions: Local Penalization and GIBBON. Notice that we use **AsynchronousGreedy** rule specifically designed for using greedy batch acquisition functions in asynchronous scenarios."
   ]
  },
  {
   "cell_type": "code",
   "execution_count": 8,
   "id": "05aee6ae",
   "metadata": {
    "execution": {
     "iopub.execute_input": "2022-02-15T12:39:33.338013Z",
     "iopub.status.busy": "2022-02-15T12:39:33.336728Z",
     "iopub.status.idle": "2022-02-15T12:40:30.536109Z",
     "shell.execute_reply": "2022-02-15T12:40:30.536576Z"
    }
   },
   "outputs": [
    {
     "name": "stdout",
     "output_type": "stream",
     "text": [
      "Process 2855: Observer : observing data at point [[0.97822809 0.19100041]]"
     ]
    },
    {
     "name": "stdout",
     "output_type": "stream",
     "text": [
      "\n"
     ]
    },
    {
     "name": "stdout",
     "output_type": "stream",
     "text": [
      "Process 2855: Objective: pretends like it's doing something for 3.5s"
     ]
    },
    {
     "name": "stdout",
     "output_type": "stream",
     "text": [
      "\n"
     ]
    },
    {
     "name": "stdout",
     "output_type": "stream",
     "text": [
      "Process 2859: Observer : observing data at point [[0.94504974 0.30487742]]"
     ]
    },
    {
     "name": "stdout",
     "output_type": "stream",
     "text": [
      "\n"
     ]
    },
    {
     "name": "stdout",
     "output_type": "stream",
     "text": [
      "Process 2859: Objective: pretends like it's doing something for 3.7s"
     ]
    },
    {
     "name": "stdout",
     "output_type": "stream",
     "text": [
      "\n"
     ]
    },
    {
     "name": "stdout",
     "output_type": "stream",
     "text": [
      "Process 2863: Observer : observing data at point [[0.87958923 0.21588155]]"
     ]
    },
    {
     "name": "stdout",
     "output_type": "stream",
     "text": [
      "\n"
     ]
    },
    {
     "name": "stdout",
     "output_type": "stream",
     "text": [
      "Process 2863: Objective: pretends like it's doing something for 3.3s"
     ]
    },
    {
     "name": "stdout",
     "output_type": "stream",
     "text": [
      "\n"
     ]
    },
    {
     "name": "stdout",
     "output_type": "stream",
     "text": [
      "Process 2855: Observer : observed data (array([[0.97822809, 0.19100041]]), array([[-1.04113838]]))"
     ]
    },
    {
     "name": "stdout",
     "output_type": "stream",
     "text": [
      "\n"
     ]
    },
    {
     "name": "stdout",
     "output_type": "stream",
     "text": [
      "Process 2816: Main     : received data (array([[0.97822809, 0.19100041]]), array([[-1.04113838]]))\n"
     ]
    },
    {
     "name": "stdout",
     "output_type": "stream",
     "text": [
      "Process 2816: Main     : acquired point [[0.91854298 0.09173454]]\n"
     ]
    },
    {
     "name": "stdout",
     "output_type": "stream",
     "text": [
      "Process 2855: Observer : observing data at point [[0.91854298 0.09173454]]"
     ]
    },
    {
     "name": "stdout",
     "output_type": "stream",
     "text": [
      "\n"
     ]
    },
    {
     "name": "stdout",
     "output_type": "stream",
     "text": [
      "Process 2855: Objective: pretends like it's doing something for 3.0s"
     ]
    },
    {
     "name": "stdout",
     "output_type": "stream",
     "text": [
      "\n"
     ]
    },
    {
     "name": "stdout",
     "output_type": "stream",
     "text": [
      "Process 2863: Observer : observed data (array([[0.87958923, 0.21588155]]), array([[-0.8745385]]))"
     ]
    },
    {
     "name": "stdout",
     "output_type": "stream",
     "text": [
      "\n"
     ]
    },
    {
     "name": "stdout",
     "output_type": "stream",
     "text": [
      "Process 2816: Main     : received data (array([[0.87958923, 0.21588155]]), array([[-0.8745385]]))\n"
     ]
    },
    {
     "name": "stdout",
     "output_type": "stream",
     "text": [
      "Process 2859: Observer : observed data (array([[0.94504974, 0.30487742]]), array([[-0.93984447]]))"
     ]
    },
    {
     "name": "stdout",
     "output_type": "stream",
     "text": [
      "\n"
     ]
    },
    {
     "name": "stdout",
     "output_type": "stream",
     "text": [
      "Process 2816: Main     : acquired point [[1.         0.21988256]]\n"
     ]
    },
    {
     "name": "stdout",
     "output_type": "stream",
     "text": [
      "Process 2816: Main     : received data (array([[0.94504974, 0.30487742]]), array([[-0.93984447]]))\n"
     ]
    },
    {
     "name": "stdout",
     "output_type": "stream",
     "text": [
      "Process 2863: Observer : observing data at point [[1.         0.21988256]]"
     ]
    },
    {
     "name": "stdout",
     "output_type": "stream",
     "text": [
      "\n"
     ]
    },
    {
     "name": "stdout",
     "output_type": "stream",
     "text": [
      "Process 2863: Objective: pretends like it's doing something for 3.7s"
     ]
    },
    {
     "name": "stdout",
     "output_type": "stream",
     "text": [
      "\n"
     ]
    },
    {
     "name": "stdout",
     "output_type": "stream",
     "text": [
      "Process 2855: Observer : observed data (array([[0.91854298, 0.09173454]]), array([[-1.00297384]]))"
     ]
    },
    {
     "name": "stdout",
     "output_type": "stream",
     "text": [
      "\n"
     ]
    },
    {
     "name": "stdout",
     "output_type": "stream",
     "text": [
      "Process 2816: Main     : acquired point [[1. 0.]]\n"
     ]
    },
    {
     "name": "stdout",
     "output_type": "stream",
     "text": [
      "Process 2816: Main     : received data (array([[0.91854298, 0.09173454]]), array([[-1.00297384]]))\n"
     ]
    },
    {
     "name": "stdout",
     "output_type": "stream",
     "text": [
      "Process 2859: Observer : observing data at point [[1. 0.]]"
     ]
    },
    {
     "name": "stdout",
     "output_type": "stream",
     "text": [
      "\n"
     ]
    },
    {
     "name": "stdout",
     "output_type": "stream",
     "text": [
      "Process 2859: Objective: pretends like it's doing something for 3.0s"
     ]
    },
    {
     "name": "stdout",
     "output_type": "stream",
     "text": [
      "\n"
     ]
    },
    {
     "name": "stdout",
     "output_type": "stream",
     "text": [
      "Process 2816: Main     : acquired point [[0.95434894 0.15957469]]\n"
     ]
    },
    {
     "name": "stdout",
     "output_type": "stream",
     "text": [
      "Process 2855: Observer : observing data at point [[0.95434894 0.15957469]]"
     ]
    },
    {
     "name": "stdout",
     "output_type": "stream",
     "text": [
      "\n"
     ]
    },
    {
     "name": "stdout",
     "output_type": "stream",
     "text": [
      "Process 2855: Objective: pretends like it's doing something for 3.3s"
     ]
    },
    {
     "name": "stdout",
     "output_type": "stream",
     "text": [
      "\n"
     ]
    },
    {
     "name": "stdout",
     "output_type": "stream",
     "text": [
      "Process 2863: Observer : observed data (array([[1.        , 0.21988256]]), array([[-1.01597051]]))"
     ]
    },
    {
     "name": "stdout",
     "output_type": "stream",
     "text": [
      "\n"
     ]
    },
    {
     "name": "stdout",
     "output_type": "stream",
     "text": [
      "Process 2816: Main     : received data (array([[1.        , 0.21988256]]), array([[-1.01597051]]))\n"
     ]
    },
    {
     "name": "stdout",
     "output_type": "stream",
     "text": [
      "Process 2859: Observer : observed data (array([[1., 0.]]), array([[-0.84406373]]))"
     ]
    },
    {
     "name": "stdout",
     "output_type": "stream",
     "text": [
      "\n"
     ]
    },
    {
     "name": "stdout",
     "output_type": "stream",
     "text": [
      "Process 2816: Main     : acquired point [[0.9866275  0.05627912]]\n"
     ]
    },
    {
     "name": "stdout",
     "output_type": "stream",
     "text": [
      "Process 2816: Main     : received data (array([[1., 0.]]), array([[-0.84406373]]))\n"
     ]
    },
    {
     "name": "stdout",
     "output_type": "stream",
     "text": [
      "Process 2863: Observer : observing data at point [[0.9866275  0.05627912]]"
     ]
    },
    {
     "name": "stdout",
     "output_type": "stream",
     "text": [
      "\n"
     ]
    },
    {
     "name": "stdout",
     "output_type": "stream",
     "text": [
      "Process 2863: Objective: pretends like it's doing something for 3.1s"
     ]
    },
    {
     "name": "stdout",
     "output_type": "stream",
     "text": [
      "\n"
     ]
    },
    {
     "name": "stdout",
     "output_type": "stream",
     "text": [
      "Process 2855: Observer : observed data (array([[0.95434894, 0.15957469]]), array([[-1.04628428]]))"
     ]
    },
    {
     "name": "stdout",
     "output_type": "stream",
     "text": [
      "\n"
     ]
    },
    {
     "name": "stdout",
     "output_type": "stream",
     "text": [
      "Process 2816: Main     : acquired point [[0.95723158 0.16615638]]\n"
     ]
    },
    {
     "name": "stdout",
     "output_type": "stream",
     "text": [
      "Process 2816: Main     : received data (array([[0.95434894, 0.15957469]]), array([[-1.04628428]]))\n"
     ]
    },
    {
     "name": "stdout",
     "output_type": "stream",
     "text": [
      "Process 2859: Observer : observing data at point [[0.95723158 0.16615638]]"
     ]
    },
    {
     "name": "stdout",
     "output_type": "stream",
     "text": [
      "\n"
     ]
    },
    {
     "name": "stdout",
     "output_type": "stream",
     "text": [
      "\n"
     ]
    },
    {
     "name": "stdout",
     "output_type": "stream",
     "text": [
      "Process 2859: Objective: pretends like it's doing something for 3.4s"
     ]
    },
    {
     "name": "stdout",
     "output_type": "stream",
     "text": [
      "Process 2816: Main     : acquired point [[0. 0.]]\n"
     ]
    },
    {
     "name": "stdout",
     "output_type": "stream",
     "text": [
      "Process 2855: Observer : observing data at point [[0. 0.]]"
     ]
    },
    {
     "name": "stdout",
     "output_type": "stream",
     "text": [
      "\n"
     ]
    },
    {
     "name": "stdout",
     "output_type": "stream",
     "text": [
      "Process 2855: Objective: pretends like it's doing something for 0.0s"
     ]
    },
    {
     "name": "stdout",
     "output_type": "stream",
     "text": [
      "\n"
     ]
    },
    {
     "name": "stdout",
     "output_type": "stream",
     "text": [
      "Process 2855: Observer : observed data (array([[0., 0.]]), array([[4.87620974]]))"
     ]
    },
    {
     "name": "stdout",
     "output_type": "stream",
     "text": [
      "\n"
     ]
    },
    {
     "name": "stdout",
     "output_type": "stream",
     "text": [
      "Process 2816: Main     : received data (array([[0., 0.]]), array([[4.87620974]]))\n"
     ]
    },
    {
     "name": "stdout",
     "output_type": "stream",
     "text": [
      "Process 2863: Observer : observed data (array([[0.9866275 , 0.05627912]]), array([[-0.96025157]]))"
     ]
    },
    {
     "name": "stdout",
     "output_type": "stream",
     "text": [
      "\n"
     ]
    },
    {
     "name": "stdout",
     "output_type": "stream",
     "text": [
      "Process 2816: Main     : acquired point [[0.96074399 0.17108133]]\n"
     ]
    },
    {
     "name": "stdout",
     "output_type": "stream",
     "text": [
      "Process 2855: Observer : observing data at point [[0.96074399 0.17108133]]"
     ]
    },
    {
     "name": "stdout",
     "output_type": "stream",
     "text": [
      "\n"
     ]
    },
    {
     "name": "stdout",
     "output_type": "stream",
     "text": [
      "Process 2855: Objective: pretends like it's doing something for 3.4s"
     ]
    },
    {
     "name": "stdout",
     "output_type": "stream",
     "text": [
      "Process 2816: Main     : received data (array([[0.9866275 , 0.05627912]]), array([[-0.96025157]]))\n"
     ]
    },
    {
     "name": "stdout",
     "output_type": "stream",
     "text": [
      "\n"
     ]
    },
    {
     "name": "stdout",
     "output_type": "stream",
     "text": [
      "Process 2859: Observer : observed data (array([[0.95723158, 0.16615638]]), array([[-1.04688599]]))"
     ]
    },
    {
     "name": "stdout",
     "output_type": "stream",
     "text": [
      "\n"
     ]
    },
    {
     "name": "stdout",
     "output_type": "stream",
     "text": [
      "Process 2816: Main     : acquired point [[0.96154875 0.16547129]]\n"
     ]
    },
    {
     "name": "stdout",
     "output_type": "stream",
     "text": [
      "Process 2816: Main     : received data (array([[0.95723158, 0.16615638]]), array([[-1.04688599]]))\n"
     ]
    },
    {
     "name": "stdout",
     "output_type": "stream",
     "text": [
      "Process 2863: Observer : observing data at point [[0.96154875 0.16547129]]"
     ]
    },
    {
     "name": "stdout",
     "output_type": "stream",
     "text": [
      "\n"
     ]
    },
    {
     "name": "stdout",
     "output_type": "stream",
     "text": [
      "Process 2863: Objective: pretends like it's doing something for 3.4s"
     ]
    },
    {
     "name": "stdout",
     "output_type": "stream",
     "text": [
      "\n"
     ]
    },
    {
     "name": "stdout",
     "output_type": "stream",
     "text": [
      "Process 2816: Main     : acquired point [[0.67376623 0.        ]]\n"
     ]
    },
    {
     "name": "stdout",
     "output_type": "stream",
     "text": [
      "Process 2859: Observer : observing data at point [[0.67376623 0.        ]]"
     ]
    },
    {
     "name": "stdout",
     "output_type": "stream",
     "text": [
      "\n"
     ]
    },
    {
     "name": "stdout",
     "output_type": "stream",
     "text": [
      "Process 2859: Objective: pretends like it's doing something for 2.0s"
     ]
    },
    {
     "name": "stdout",
     "output_type": "stream",
     "text": [
      "\n"
     ]
    },
    {
     "name": "stdout",
     "output_type": "stream",
     "text": [
      "Process 2855: Observer : observed data (array([[0.96074399, 0.17108133]]), array([[-1.04717379]]))"
     ]
    },
    {
     "name": "stdout",
     "output_type": "stream",
     "text": [
      "\n"
     ]
    },
    {
     "name": "stdout",
     "output_type": "stream",
     "text": [
      "Process 2816: Main     : received data (array([[0.96074399, 0.17108133]]), array([[-1.04717379]]))\n"
     ]
    },
    {
     "name": "stdout",
     "output_type": "stream",
     "text": [
      "Process 2859: Observer : observed data (array([[0.67376623, 0.        ]]), array([[-0.76192218]]))"
     ]
    },
    {
     "name": "stdout",
     "output_type": "stream",
     "text": [
      "\n"
     ]
    },
    {
     "name": "stdout",
     "output_type": "stream",
     "text": [
      "Process 2863: Observer : observed data (array([[0.96154875, 0.16547129]]), array([[-1.04739232]]))"
     ]
    },
    {
     "name": "stdout",
     "output_type": "stream",
     "text": [
      "\n"
     ]
    },
    {
     "name": "stdout",
     "output_type": "stream",
     "text": [
      "Process 2816: Main     : acquired point [[0.96210752 0.16218885]]\n"
     ]
    },
    {
     "name": "stdout",
     "output_type": "stream",
     "text": [
      "Process 2816: Main     : received data (array([[0.67376623, 0.        ]]), array([[-0.76192218]]))\n"
     ]
    },
    {
     "name": "stdout",
     "output_type": "stream",
     "text": [
      "Process 2855: Observer : observing data at point [[0.96210752 0.16218885]]"
     ]
    },
    {
     "name": "stdout",
     "output_type": "stream",
     "text": [
      "\n"
     ]
    },
    {
     "name": "stdout",
     "output_type": "stream",
     "text": [
      "Process 2855: Objective: pretends like it's doing something for 3.4s"
     ]
    },
    {
     "name": "stdout",
     "output_type": "stream",
     "text": [
      "\n"
     ]
    },
    {
     "name": "stdout",
     "output_type": "stream",
     "text": [
      "Process 2816: Main     : acquired point [[0.78241962 0.        ]]\n"
     ]
    },
    {
     "name": "stdout",
     "output_type": "stream",
     "text": [
      "Process 2816: Main     : received data (array([[0.96154875, 0.16547129]]), array([[-1.04739232]]))\n"
     ]
    },
    {
     "name": "stdout",
     "output_type": "stream",
     "text": [
      "Process 2859: Observer : observing data at point [[0.78241962 0.        ]]"
     ]
    },
    {
     "name": "stdout",
     "output_type": "stream",
     "text": [
      "Process 2859: Objective: pretends like it's doing something for 2.3s"
     ]
    },
    {
     "name": "stdout",
     "output_type": "stream",
     "text": [
      "\n"
     ]
    },
    {
     "name": "stdout",
     "output_type": "stream",
     "text": [
      "\n"
     ]
    },
    {
     "name": "stdout",
     "output_type": "stream",
     "text": [
      "Process 2816: Main     : acquired point [[0.81040635 0.        ]]\n"
     ]
    },
    {
     "name": "stdout",
     "output_type": "stream",
     "text": [
      "Process 2863: Observer : observing data at point [[0.81040635 0.        ]]"
     ]
    },
    {
     "name": "stdout",
     "output_type": "stream",
     "text": [
      "\n"
     ]
    },
    {
     "name": "stdout",
     "output_type": "stream",
     "text": [
      "Process 2863: Objective: pretends like it's doing something for 2.4s"
     ]
    },
    {
     "name": "stdout",
     "output_type": "stream",
     "text": [
      "\n"
     ]
    },
    {
     "name": "stdout",
     "output_type": "stream",
     "text": [
      "Process 2855: Observer : observed data (array([[0.96210752, 0.16218885]]), array([[-1.04734534]]))"
     ]
    },
    {
     "name": "stdout",
     "output_type": "stream",
     "text": [
      "\n"
     ]
    },
    {
     "name": "stdout",
     "output_type": "stream",
     "text": [
      "Process 2816: Main     : received data (array([[0.96210752, 0.16218885]]), array([[-1.04734534]]))\n"
     ]
    },
    {
     "name": "stdout",
     "output_type": "stream",
     "text": [
      "Process 2859: Observer : observed data (array([[0.78241962, 0.        ]]), array([[-0.67132003]]))"
     ]
    },
    {
     "name": "stdout",
     "output_type": "stream",
     "text": [
      "\n"
     ]
    },
    {
     "name": "stdout",
     "output_type": "stream",
     "text": [
      "Process 2816: Main     : acquired point [[0.75665256 0.        ]]\n"
     ]
    },
    {
     "name": "stdout",
     "output_type": "stream",
     "text": [
      "Process 2816: Main     : received data (array([[0.78241962, 0.        ]]), array([[-0.67132003]]))\n"
     ]
    },
    {
     "name": "stdout",
     "output_type": "stream",
     "text": [
      "Process 2855: Observer : observing data at point [[0.75665256 0.        ]]"
     ]
    },
    {
     "name": "stdout",
     "output_type": "stream",
     "text": [
      "\n"
     ]
    },
    {
     "name": "stdout",
     "output_type": "stream",
     "text": [
      "Process 2855: Objective: pretends like it's doing something for 2.3s"
     ]
    },
    {
     "name": "stdout",
     "output_type": "stream",
     "text": [
      "\n"
     ]
    },
    {
     "name": "stdout",
     "output_type": "stream",
     "text": [
      "Process 2863: Observer : observed data (array([[0.81040635, 0.        ]]), array([[-0.71484253]]))"
     ]
    },
    {
     "name": "stdout",
     "output_type": "stream",
     "text": [
      "\n"
     ]
    },
    {
     "name": "stdout",
     "output_type": "stream",
     "text": [
      "Process 2816: Main     : acquired point [[0.52844062 0.        ]]\n"
     ]
    },
    {
     "name": "stdout",
     "output_type": "stream",
     "text": [
      "Process 2816: Main     : received data (array([[0.81040635, 0.        ]]), array([[-0.71484253]]))\n"
     ]
    },
    {
     "name": "stdout",
     "output_type": "stream",
     "text": [
      "Process 2859: Observer : observing data at point [[0.52844062 0.        ]]"
     ]
    },
    {
     "name": "stdout",
     "output_type": "stream",
     "text": [
      "\n"
     ]
    },
    {
     "name": "stdout",
     "output_type": "stream",
     "text": [
      "\n"
     ]
    },
    {
     "name": "stdout",
     "output_type": "stream",
     "text": [
      "Process 2859: Objective: pretends like it's doing something for 1.6s"
     ]
    },
    {
     "name": "stdout",
     "output_type": "stream",
     "text": [
      "Process 2855: Observer : observed data (array([[0.75665256, 0.        ]]), array([[-0.65473041]]))"
     ]
    },
    {
     "name": "stdout",
     "output_type": "stream",
     "text": [
      "\n"
     ]
    },
    {
     "name": "stdout",
     "output_type": "stream",
     "text": [
      "Process 2816: Main     : acquired point [[0.51942856 0.08089642]]\n"
     ]
    },
    {
     "name": "stdout",
     "output_type": "stream",
     "text": [
      "Process 2863: Observer : observing data at point [[0.51942856 0.08089642]]"
     ]
    },
    {
     "name": "stdout",
     "output_type": "stream",
     "text": [
      "Process 2816: Main     : received data (array([[0.75665256, 0.        ]]), array([[-0.65473041]]))\n"
     ]
    },
    {
     "name": "stdout",
     "output_type": "stream",
     "text": [
      "\n"
     ]
    },
    {
     "name": "stdout",
     "output_type": "stream",
     "text": [
      "Process 2863: Objective: pretends like it's doing something for 1.8s"
     ]
    },
    {
     "name": "stdout",
     "output_type": "stream",
     "text": [
      "\n"
     ]
    },
    {
     "name": "stdout",
     "output_type": "stream",
     "text": [
      "Process 2859: Observer : observed data (array([[0.52844062, 0.        ]]), array([[-0.92772464]]))"
     ]
    },
    {
     "name": "stdout",
     "output_type": "stream",
     "text": [
      "\n"
     ]
    },
    {
     "name": "stdout",
     "output_type": "stream",
     "text": [
      "Process 2816: Main     : acquired point [[0.4727271 0.       ]]\n"
     ]
    },
    {
     "name": "stdout",
     "output_type": "stream",
     "text": [
      "Process 2816: Main     : received data (array([[0.52844062, 0.        ]]), array([[-0.92772464]]))\n"
     ]
    },
    {
     "name": "stdout",
     "output_type": "stream",
     "text": [
      "Process 2855: Observer : observing data at point [[0.4727271 0.       ]]"
     ]
    },
    {
     "name": "stdout",
     "output_type": "stream",
     "text": [
      "\n"
     ]
    },
    {
     "name": "stdout",
     "output_type": "stream",
     "text": [
      "Process 2855: Objective: pretends like it's doing something for 1.4s"
     ]
    },
    {
     "name": "stdout",
     "output_type": "stream",
     "text": [
      "\n"
     ]
    },
    {
     "name": "stdout",
     "output_type": "stream",
     "text": [
      "Process 2863: Observer : observed data (array([[0.51942856, 0.08089642]]), array([[-1.00107113]]))"
     ]
    },
    {
     "name": "stdout",
     "output_type": "stream",
     "text": [
      "\n"
     ]
    },
    {
     "name": "stdout",
     "output_type": "stream",
     "text": [
      "Process 2816: Main     : acquired point [[0.55664139 0.1488984 ]]\n"
     ]
    },
    {
     "name": "stdout",
     "output_type": "stream",
     "text": [
      "Process 2816: Main     : received data (array([[0.51942856, 0.08089642]]), array([[-1.00107113]]))\n"
     ]
    },
    {
     "name": "stdout",
     "output_type": "stream",
     "text": [
      "Process 2859: Observer : observing data at point [[0.55664139 0.1488984 ]]"
     ]
    },
    {
     "name": "stdout",
     "output_type": "stream",
     "text": [
      "\n"
     ]
    },
    {
     "name": "stdout",
     "output_type": "stream",
     "text": [
      "Process 2859: Objective: pretends like it's doing something for 2.1s"
     ]
    },
    {
     "name": "stdout",
     "output_type": "stream",
     "text": [
      "\n"
     ]
    },
    {
     "name": "stdout",
     "output_type": "stream",
     "text": [
      "Process 2855: Observer : observed data (array([[0.4727271, 0.       ]]), array([[-0.75272091]]))"
     ]
    },
    {
     "name": "stdout",
     "output_type": "stream",
     "text": [
      "\n"
     ]
    },
    {
     "name": "stdout",
     "output_type": "stream",
     "text": [
      "Process 2816: Main     : acquired point [[0.56302601 0.13564284]]\n"
     ]
    },
    {
     "name": "stdout",
     "output_type": "stream",
     "text": [
      "Process 2816: Main     : received data (array([[0.4727271, 0.       ]]), array([[-0.75272091]]))\n"
     ]
    },
    {
     "name": "stdout",
     "output_type": "stream",
     "text": [
      "Process 2863: Observer : observing data at point [[0.56302601 0.13564284]]"
     ]
    },
    {
     "name": "stdout",
     "output_type": "stream",
     "text": [
      "\n"
     ]
    },
    {
     "name": "stdout",
     "output_type": "stream",
     "text": [
      "Process 2863: Objective: pretends like it's doing something for 2.1s"
     ]
    },
    {
     "name": "stdout",
     "output_type": "stream",
     "text": [
      "\n"
     ]
    },
    {
     "name": "stdout",
     "output_type": "stream",
     "text": [
      "Process 2859: Observer : observed data (array([[0.55664139, 0.1488984 ]]), array([[-1.04315379]]))"
     ]
    },
    {
     "name": "stdout",
     "output_type": "stream",
     "text": [
      "\n"
     ]
    },
    {
     "name": "stdout",
     "output_type": "stream",
     "text": [
      "Process 2816: Main     : acquired point [[0.56426197 0.14454143]]\n"
     ]
    },
    {
     "name": "stdout",
     "output_type": "stream",
     "text": [
      "Process 2816: Main     : received data (array([[0.55664139, 0.1488984 ]]), array([[-1.04315379]]))\n"
     ]
    },
    {
     "name": "stdout",
     "output_type": "stream",
     "text": [
      "Process 2855: Observer : observing data at point [[0.56426197 0.14454143]]"
     ]
    },
    {
     "name": "stdout",
     "output_type": "stream",
     "text": [
      "\n"
     ]
    },
    {
     "name": "stdout",
     "output_type": "stream",
     "text": [
      "Process 2855: Objective: pretends like it's doing something for 2.1s"
     ]
    },
    {
     "name": "stdout",
     "output_type": "stream",
     "text": [
      "\n"
     ]
    },
    {
     "name": "stdout",
     "output_type": "stream",
     "text": [
      "Process 2863: Observer : observed data (array([[0.56302601, 0.13564284]]), array([[-1.03892532]]))"
     ]
    },
    {
     "name": "stdout",
     "output_type": "stream",
     "text": [
      "\n"
     ]
    },
    {
     "name": "stdout",
     "output_type": "stream",
     "text": [
      "Process 2816: Main     : acquired point [[0.55971882 0.11219217]]\n"
     ]
    },
    {
     "name": "stdout",
     "output_type": "stream",
     "text": [
      "Process 2816: Main     : received data (array([[0.56302601, 0.13564284]]), array([[-1.03892532]]))\n"
     ]
    },
    {
     "name": "stdout",
     "output_type": "stream",
     "text": [
      "Process 2859: Observer : observing data at point [[0.55971882 0.11219217]]"
     ]
    },
    {
     "name": "stdout",
     "output_type": "stream",
     "text": [
      "\n"
     ]
    },
    {
     "name": "stdout",
     "output_type": "stream",
     "text": [
      "Process 2859: Objective: pretends like it's doing something for 2.0s"
     ]
    },
    {
     "name": "stdout",
     "output_type": "stream",
     "text": [
      "\n"
     ]
    },
    {
     "name": "stdout",
     "output_type": "stream",
     "text": [
      "Process 2855: Observer : observed data (array([[0.56426197, 0.14454143]]), array([[-1.03754381]]))"
     ]
    },
    {
     "name": "stdout",
     "output_type": "stream",
     "text": [
      "\n"
     ]
    },
    {
     "name": "stdout",
     "output_type": "stream",
     "text": [
      "Process 2816: Main     : acquired point [[0.54355335 0.14096182]]\n"
     ]
    },
    {
     "name": "stdout",
     "output_type": "stream",
     "text": [
      "Process 2863: Observer : observing data at point [[0.54355335 0.14096182]]"
     ]
    },
    {
     "name": "stdout",
     "output_type": "stream",
     "text": [
      "\n"
     ]
    },
    {
     "name": "stdout",
     "output_type": "stream",
     "text": [
      "Process 2863: Objective: pretends like it's doing something for 2.1s"
     ]
    },
    {
     "name": "stdout",
     "output_type": "stream",
     "text": [
      "\n"
     ]
    },
    {
     "name": "stdout",
     "output_type": "stream",
     "text": [
      "Process 2816: Main     : received data (array([[0.56426197, 0.14454143]]), array([[-1.03754381]]))\n"
     ]
    },
    {
     "name": "stdout",
     "output_type": "stream",
     "text": [
      "Process 2859: Observer : observed data (array([[0.55971882, 0.11219217]]), array([[-1.03834035]]))"
     ]
    },
    {
     "name": "stdout",
     "output_type": "stream",
     "text": [
      "\n"
     ]
    },
    {
     "name": "stdout",
     "output_type": "stream",
     "text": [
      "Process 2816: Main     : acquired point [[0.53993609 0.15346219]]\n"
     ]
    },
    {
     "name": "stdout",
     "output_type": "stream",
     "text": [
      "Process 2855: Observer : observing data at point [[0.53993609 0.15346219]]"
     ]
    },
    {
     "name": "stdout",
     "output_type": "stream",
     "text": [
      "Process 2816: Main     : received data (array([[0.55971882, 0.11219217]]), array([[-1.03834035]]))\n"
     ]
    },
    {
     "name": "stdout",
     "output_type": "stream",
     "text": [
      "\n"
     ]
    },
    {
     "name": "stdout",
     "output_type": "stream",
     "text": [
      "Process 2855: Objective: pretends like it's doing something for 2.1s"
     ]
    },
    {
     "name": "stdout",
     "output_type": "stream",
     "text": [
      "\n"
     ]
    },
    {
     "name": "stdout",
     "output_type": "stream",
     "text": [
      "Process 2863: Observer : observed data (array([[0.54355335, 0.14096182]]), array([[-1.04693964]]))"
     ]
    },
    {
     "name": "stdout",
     "output_type": "stream",
     "text": [
      "\n"
     ]
    },
    {
     "name": "stdout",
     "output_type": "stream",
     "text": [
      "Process 2816: Main     : acquired point [[0.54043101 0.15217747]]\n"
     ]
    },
    {
     "name": "stdout",
     "output_type": "stream",
     "text": [
      "Process 2816: Main     : received data (array([[0.54355335, 0.14096182]]), array([[-1.04693964]]))\n"
     ]
    },
    {
     "name": "stdout",
     "output_type": "stream",
     "text": [
      "Process 2859: Observer : observing data at point [[0.54043101 0.15217747]]"
     ]
    },
    {
     "name": "stdout",
     "output_type": "stream",
     "text": [
      "Process 2859: Objective: pretends like it's doing something for 2.1s"
     ]
    },
    {
     "name": "stdout",
     "output_type": "stream",
     "text": [
      "\n"
     ]
    },
    {
     "name": "stdout",
     "output_type": "stream",
     "text": [
      "\n"
     ]
    },
    {
     "name": "stdout",
     "output_type": "stream",
     "text": [
      "Process 2855: Observer : observed data (array([[0.53993609, 0.15346219]]), array([[-1.04722578]]))"
     ]
    },
    {
     "name": "stdout",
     "output_type": "stream",
     "text": [
      "\n"
     ]
    },
    {
     "name": "stdout",
     "output_type": "stream",
     "text": [
      "Process 2816: Main     : acquired point [[0.53684    0.16648262]]\n"
     ]
    },
    {
     "name": "stdout",
     "output_type": "stream",
     "text": [
      "Process 2863: Observer : observing data at point [[0.53684    0.16648262]]"
     ]
    },
    {
     "name": "stdout",
     "output_type": "stream",
     "text": [
      "Process 2816: Main     : received data (array([[0.53993609, 0.15346219]]), array([[-1.04722578]]))\n"
     ]
    },
    {
     "name": "stdout",
     "output_type": "stream",
     "text": [
      "\n"
     ]
    },
    {
     "name": "stdout",
     "output_type": "stream",
     "text": [
      "Process 2863: Objective: pretends like it's doing something for 2.1s"
     ]
    },
    {
     "name": "stdout",
     "output_type": "stream",
     "text": [
      "\n"
     ]
    },
    {
     "name": "stdout",
     "output_type": "stream",
     "text": [
      "Process 2859: Observer : observed data (array([[0.54043101, 0.15217747]]), array([[-1.04727225]]))"
     ]
    },
    {
     "name": "stdout",
     "output_type": "stream",
     "text": [
      "\n"
     ]
    },
    {
     "name": "stdout",
     "output_type": "stream",
     "text": [
      "Process 2816: Main     : acquired point [[0.25133503 1.        ]]\n"
     ]
    },
    {
     "name": "stdout",
     "output_type": "stream",
     "text": [
      "Process 2816: Main     : received data (array([[0.54043101, 0.15217747]]), array([[-1.04727225]]))\n"
     ]
    },
    {
     "name": "stdout",
     "output_type": "stream",
     "text": [
      "Process 2855: Observer : observing data at point [[0.25133503 1.        ]]"
     ]
    },
    {
     "name": "stdout",
     "output_type": "stream",
     "text": [
      "\n"
     ]
    },
    {
     "name": "stdout",
     "output_type": "stream",
     "text": [
      "\n"
     ]
    },
    {
     "name": "stdout",
     "output_type": "stream",
     "text": [
      "Process 2855: Objective: pretends like it's doing something for 3.8s"
     ]
    },
    {
     "name": "stdout",
     "output_type": "stream",
     "text": [
      "Process 2863: Observer : observed data (array([[0.53684   , 0.16648262]]), array([[-1.04621881]]))"
     ]
    },
    {
     "name": "stdout",
     "output_type": "stream",
     "text": [
      "\n"
     ]
    },
    {
     "name": "stdout",
     "output_type": "stream",
     "text": [
      "Process 2816: Main     : acquired point [[0.34027069 0.67861446]]\n"
     ]
    },
    {
     "name": "stdout",
     "output_type": "stream",
     "text": [
      "Process 2816: Main     : received data (array([[0.53684   , 0.16648262]]), array([[-1.04621881]]))\n"
     ]
    },
    {
     "name": "stdout",
     "output_type": "stream",
     "text": [
      "Process 2859: Observer : observing data at point [[0.34027069 0.67861446]]"
     ]
    },
    {
     "name": "stdout",
     "output_type": "stream",
     "text": [
      "\n"
     ]
    },
    {
     "name": "stdout",
     "output_type": "stream",
     "text": [
      "Process 2859: Objective: pretends like it's doing something for 3.1s"
     ]
    },
    {
     "name": "stdout",
     "output_type": "stream",
     "text": [
      "\n"
     ]
    },
    {
     "name": "stdout",
     "output_type": "stream",
     "text": [
      "Process 2816: Main     : acquired point [[0.39531395 0.48669658]]\n"
     ]
    },
    {
     "name": "stdout",
     "output_type": "stream",
     "text": [
      "Process 2863: Observer : observing data at point [[0.39531395 0.48669658]]"
     ]
    },
    {
     "name": "stdout",
     "output_type": "stream",
     "text": [
      "\n"
     ]
    },
    {
     "name": "stdout",
     "output_type": "stream",
     "text": [
      "Process 2863: Objective: pretends like it's doing something for 2.6s"
     ]
    },
    {
     "name": "stdout",
     "output_type": "stream",
     "text": [
      "\n"
     ]
    },
    {
     "name": "stdout",
     "output_type": "stream",
     "text": [
      "Process 2855: Observer : observed data (array([[0.25133503, 1.        ]]), array([[0.10165585]]))"
     ]
    },
    {
     "name": "stdout",
     "output_type": "stream",
     "text": [
      "\n"
     ]
    },
    {
     "name": "stdout",
     "output_type": "stream",
     "text": [
      "Process 2816: Main     : received data (array([[0.25133503, 1.        ]]), array([[0.10165585]]))\n"
     ]
    },
    {
     "name": "stdout",
     "output_type": "stream",
     "text": [
      "Process 2859: Observer : observed data (array([[0.34027069, 0.67861446]]), array([[-0.31558033]]))"
     ]
    },
    {
     "name": "stdout",
     "output_type": "stream",
     "text": [
      "\n"
     ]
    },
    {
     "name": "stdout",
     "output_type": "stream",
     "text": [
      "Process 2816: Main     : acquired point [[0.41757084 0.42227832]]\n"
     ]
    },
    {
     "name": "stdout",
     "output_type": "stream",
     "text": [
      "Process 2816: Main     : received data (array([[0.34027069, 0.67861446]]), array([[-0.31558033]]))\n"
     ]
    },
    {
     "name": "stdout",
     "output_type": "stream",
     "text": [
      "Process 2855: Observer : observing data at point [[0.41757084 0.42227832]]"
     ]
    },
    {
     "name": "stdout",
     "output_type": "stream",
     "text": [
      "\n"
     ]
    },
    {
     "name": "stdout",
     "output_type": "stream",
     "text": [
      "Process 2855: Objective: pretends like it's doing something for 2.5s"
     ]
    },
    {
     "name": "stdout",
     "output_type": "stream",
     "text": [
      "\n"
     ]
    },
    {
     "name": "stdout",
     "output_type": "stream",
     "text": [
      "Process 2863: Observer : observed data (array([[0.39531395, 0.48669658]]), array([[-0.61494874]]))"
     ]
    },
    {
     "name": "stdout",
     "output_type": "stream",
     "text": [
      "\n"
     ]
    },
    {
     "name": "stdout",
     "output_type": "stream",
     "text": [
      "Process 2816: Main     : acquired point [[0.96193499 0.16333327]]\n"
     ]
    },
    {
     "name": "stdout",
     "output_type": "stream",
     "text": [
      "Process 2859: Observer : observing data at point [[0.96193499 0.16333327]]"
     ]
    },
    {
     "name": "stdout",
     "output_type": "stream",
     "text": [
      "\n"
     ]
    },
    {
     "name": "stdout",
     "output_type": "stream",
     "text": [
      "Got 33 observations in 54.16s\n"
     ]
    }
   ],
   "source": [
    "\n",
    "# setup Ask Tell BO\n",
    "local_penalization_acq = LocalPenalization(search_space, num_samples=2000)\n",
    "local_penalization_rule = AsynchronousGreedy(builder=local_penalization_acq)  # type: ignore\n",
    "\n",
    "async_bo = AskTellOptimizer(\n",
    "    search_space, initial_data, model, local_penalization_rule\n",
    ")\n",
    "\n",
    "# retrieve process id for nice logging\n",
    "pid = os.getpid()\n",
    "# create point and observation queues\n",
    "m = Manager()\n",
    "pq = m.Queue()\n",
    "oq = m.Queue()\n",
    "# keep track of all workers we have launched\n",
    "observer_processes = []\n",
    "# counter to keep track of collected observations\n",
    "points_observed = 0\n",
    "\n",
    "start = timeit.default_timer()\n",
    "try:\n",
    "    observer_processes = create_worker_processes(num_workers, pq, oq)\n",
    "\n",
    "    # init the queue with first batch of points\n",
    "    for _ in range(num_workers):\n",
    "        point = async_bo.ask()\n",
    "        pq.put(np.atleast_2d(point.numpy()))\n",
    "\n",
    "    while points_observed < num_observations:\n",
    "        # keep asking queue for new observations until one arrives\n",
    "        try:\n",
    "            new_data = oq.get_nowait()\n",
    "            print(\n",
    "                f\"Process {pid}: Main     : received data {new_data}\",\n",
    "                flush=True,\n",
    "            )\n",
    "        except:\n",
    "            continue\n",
    "\n",
    "        # new_data is a tuple of (point, observation value)\n",
    "        # here we turn it into a Dataset and tell of it Trieste\n",
    "        points_observed += 1\n",
    "        new_data = Dataset(\n",
    "            query_points=tf.constant(new_data[0], dtype=tf.float64),\n",
    "            observations=tf.constant(new_data[1], dtype=tf.float64),\n",
    "        )\n",
    "        async_bo.tell(new_data)\n",
    "\n",
    "        # now we can ask Trieste for one more point\n",
    "        # and feed that back into the points queue\n",
    "        point = async_bo.ask()\n",
    "        print(f\"Process {pid}: Main     : acquired point {point}\", flush=True)\n",
    "        pq.put(np.atleast_2d(point))\n",
    "finally:\n",
    "    terminate_processes(observer_processes)\n",
    "stop = timeit.default_timer()\n",
    "\n",
    "# Collect the observations, compute the running time\n",
    "async_lp_observations = (\n",
    "    async_bo.to_result().try_get_final_dataset().observations\n",
    "    - SCALED_BRANIN_MINIMUM\n",
    ")\n",
    "async_lp_time = stop - start\n",
    "print(f\"Got {len(async_lp_observations)} observations in {async_lp_time:.2f}s\")"
   ]
  },
  {
   "cell_type": "markdown",
   "id": "5d7898bc",
   "metadata": {},
   "source": [
    "## Synchronous parallel optimization\n",
    "\n",
    "This section runs the synchronous parallel optimization with Trieste. We again use Local Penalization acquisition function, but this time with batch size equal to the number of workers we have available. Once Trieste suggests the batch, we add all points to the point queue, and workers immediatelly pick them up, one point per worker. Therefore all points in the batch are evaluated in parallel."
   ]
  },
  {
   "cell_type": "code",
   "execution_count": 9,
   "id": "2adda4dd",
   "metadata": {
    "execution": {
     "iopub.execute_input": "2022-02-15T12:40:30.550364Z",
     "iopub.status.busy": "2022-02-15T12:40:30.545162Z",
     "iopub.status.idle": "2022-02-15T12:41:25.726799Z",
     "shell.execute_reply": "2022-02-15T12:41:25.727787Z"
    },
    "lines_to_next_cell": 2
   },
   "outputs": [
    {
     "name": "stdout",
     "output_type": "stream",
     "text": [
      "Process 2816: Main     : iteration 0 starts\n"
     ]
    },
    {
     "name": "stdout",
     "output_type": "stream",
     "text": [
      "Process 3299: Observer : observing data at point [[0.97818709 0.19099167]]"
     ]
    },
    {
     "name": "stdout",
     "output_type": "stream",
     "text": [
      "\n"
     ]
    },
    {
     "name": "stdout",
     "output_type": "stream",
     "text": [
      "Process 3303: Observer : observing data at point [[0.94509963 0.30494032]]"
     ]
    },
    {
     "name": "stdout",
     "output_type": "stream",
     "text": [
      "\n"
     ]
    },
    {
     "name": "stdout",
     "output_type": "stream",
     "text": [
      "Process 3299: Objective: pretends like it's doing something for 3.5s"
     ]
    },
    {
     "name": "stdout",
     "output_type": "stream",
     "text": [
      "\n"
     ]
    },
    {
     "name": "stdout",
     "output_type": "stream",
     "text": [
      "Process 3306: Observer : observing data at point [[0.87941709 0.21587391]]"
     ]
    },
    {
     "name": "stdout",
     "output_type": "stream",
     "text": [
      "\n"
     ]
    },
    {
     "name": "stdout",
     "output_type": "stream",
     "text": [
      "Process 3303: Objective: pretends like it's doing something for 3.8s"
     ]
    },
    {
     "name": "stdout",
     "output_type": "stream",
     "text": [
      "Process 3306: Objective: pretends like it's doing something for 3.3s"
     ]
    },
    {
     "name": "stdout",
     "output_type": "stream",
     "text": [
      "\n"
     ]
    },
    {
     "name": "stdout",
     "output_type": "stream",
     "text": [
      "\n"
     ]
    },
    {
     "name": "stdout",
     "output_type": "stream",
     "text": [
      "Process 3306: Observer : observed data (array([[0.87941709, 0.21587391]]), array([[-0.87401157]]))"
     ]
    },
    {
     "name": "stdout",
     "output_type": "stream",
     "text": [
      "\n"
     ]
    },
    {
     "name": "stdout",
     "output_type": "stream",
     "text": [
      "Process 2816: Main     : received data (array([[0.87941709, 0.21587391]]), array([[-0.87401157]]))\n"
     ]
    },
    {
     "name": "stdout",
     "output_type": "stream",
     "text": [
      "Process 3299: Observer : observed data (array([[0.97818709, 0.19099167]]), array([[-1.04116348]]))"
     ]
    },
    {
     "name": "stdout",
     "output_type": "stream",
     "text": [
      "\n"
     ]
    },
    {
     "name": "stdout",
     "output_type": "stream",
     "text": [
      "Process 2816: Main     : received data (array([[0.97818709, 0.19099167]]), array([[-1.04116348]]))\n"
     ]
    },
    {
     "name": "stdout",
     "output_type": "stream",
     "text": [
      "Process 3303: Observer : observed data (array([[0.94509963, 0.30494032]]), array([[-0.9398466]]))"
     ]
    },
    {
     "name": "stdout",
     "output_type": "stream",
     "text": [
      "\n"
     ]
    },
    {
     "name": "stdout",
     "output_type": "stream",
     "text": [
      "Process 2816: Main     : received data (array([[0.94509963, 0.30494032]]), array([[-0.9398466]]))\n"
     ]
    },
    {
     "name": "stdout",
     "output_type": "stream",
     "text": [
      "Process 2816: Main     : iteration 1 starts\n"
     ]
    },
    {
     "name": "stdout",
     "output_type": "stream",
     "text": [
      "Process 3299: Observer : observing data at point [[1.         0.23876664]]"
     ]
    },
    {
     "name": "stdout",
     "output_type": "stream",
     "text": [
      "\n"
     ]
    },
    {
     "name": "stdout",
     "output_type": "stream",
     "text": [
      "Process 3303: Observer : observing data at point [[1.         0.21967893]]"
     ]
    },
    {
     "name": "stdout",
     "output_type": "stream",
     "text": [
      "Process 3299: Objective: pretends like it's doing something for 3.7s"
     ]
    },
    {
     "name": "stdout",
     "output_type": "stream",
     "text": [
      "\n"
     ]
    },
    {
     "name": "stdout",
     "output_type": "stream",
     "text": [
      "\n"
     ]
    },
    {
     "name": "stdout",
     "output_type": "stream",
     "text": [
      "Process 3306: Observer : observing data at point [[1. 0.]]"
     ]
    },
    {
     "name": "stdout",
     "output_type": "stream",
     "text": [
      "Process 3303: Objective: pretends like it's doing something for 3.7s"
     ]
    },
    {
     "name": "stdout",
     "output_type": "stream",
     "text": [
      "\n"
     ]
    },
    {
     "name": "stdout",
     "output_type": "stream",
     "text": [
      "\n"
     ]
    },
    {
     "name": "stdout",
     "output_type": "stream",
     "text": [
      "Process 3306: Objective: pretends like it's doing something for 3.0s"
     ]
    },
    {
     "name": "stdout",
     "output_type": "stream",
     "text": [
      "\n"
     ]
    },
    {
     "name": "stdout",
     "output_type": "stream",
     "text": [
      "Process 3306: Observer : observed data (array([[1., 0.]]), array([[-0.84406373]]))"
     ]
    },
    {
     "name": "stdout",
     "output_type": "stream",
     "text": [
      "\n"
     ]
    },
    {
     "name": "stdout",
     "output_type": "stream",
     "text": [
      "Process 2816: Main     : received data (array([[1., 0.]]), array([[-0.84406373]]))\n"
     ]
    },
    {
     "name": "stdout",
     "output_type": "stream",
     "text": [
      "Process 3303: Observer : observed data (array([[1.        , 0.21967893]]), array([[-1.01600505]]))"
     ]
    },
    {
     "name": "stdout",
     "output_type": "stream",
     "text": [
      "\n"
     ]
    },
    {
     "name": "stdout",
     "output_type": "stream",
     "text": [
      "Process 2816: Main     : received data (array([[1.        , 0.21967893]]), array([[-1.01600505]]))\n"
     ]
    },
    {
     "name": "stdout",
     "output_type": "stream",
     "text": [
      "Process 3299: Observer : observed data (array([[1.        , 0.23876664]]), array([[-1.01120592]]))"
     ]
    },
    {
     "name": "stdout",
     "output_type": "stream",
     "text": [
      "\n"
     ]
    },
    {
     "name": "stdout",
     "output_type": "stream",
     "text": [
      "Process 2816: Main     : received data (array([[1.        , 0.23876664]]), array([[-1.01120592]]))\n"
     ]
    },
    {
     "name": "stdout",
     "output_type": "stream",
     "text": [
      "Process 2816: Main     : iteration 2 starts\n"
     ]
    },
    {
     "name": "stdout",
     "output_type": "stream",
     "text": [
      "Process 3306: Observer : observing data at point [[0.95640963 0.16223329]]"
     ]
    },
    {
     "name": "stdout",
     "output_type": "stream",
     "text": [
      "Process 3299: Observer : observing data at point [[0.95833881 0.16889474]]"
     ]
    },
    {
     "name": "stdout",
     "output_type": "stream",
     "text": [
      "\n"
     ]
    },
    {
     "name": "stdout",
     "output_type": "stream",
     "text": [
      "Process 3306: Objective: pretends like it's doing something for 3.4s"
     ]
    },
    {
     "name": "stdout",
     "output_type": "stream",
     "text": [
      "Process 3303: Observer : observing data at point [[0.95434685 0.15533027]]"
     ]
    },
    {
     "name": "stdout",
     "output_type": "stream",
     "text": [
      "\n"
     ]
    },
    {
     "name": "stdout",
     "output_type": "stream",
     "text": [
      "\n"
     ]
    },
    {
     "name": "stdout",
     "output_type": "stream",
     "text": [
      "\n"
     ]
    },
    {
     "name": "stdout",
     "output_type": "stream",
     "text": [
      "Process 3303: Objective: pretends like it's doing something for 3.3s"
     ]
    },
    {
     "name": "stdout",
     "output_type": "stream",
     "text": [
      "\n"
     ]
    },
    {
     "name": "stdout",
     "output_type": "stream",
     "text": [
      "Process 3299: Objective: pretends like it's doing something for 3.4s"
     ]
    },
    {
     "name": "stdout",
     "output_type": "stream",
     "text": [
      "\n"
     ]
    },
    {
     "name": "stdout",
     "output_type": "stream",
     "text": [
      "Process 3303: Observer : observed data (array([[0.95434685, 0.15533027]]), array([[-1.0462289]]))"
     ]
    },
    {
     "name": "stdout",
     "output_type": "stream",
     "text": [
      "\n"
     ]
    },
    {
     "name": "stdout",
     "output_type": "stream",
     "text": [
      "Process 2816: Main     : received data (array([[0.95434685, 0.15533027]]), array([[-1.0462289]]))\n"
     ]
    },
    {
     "name": "stdout",
     "output_type": "stream",
     "text": [
      "Process 3306: Observer : observed data (array([[0.95640963, 0.16223329]]), array([[-1.04681164]]))"
     ]
    },
    {
     "name": "stdout",
     "output_type": "stream",
     "text": [
      "\n"
     ]
    },
    {
     "name": "stdout",
     "output_type": "stream",
     "text": [
      "Process 2816: Main     : received data (array([[0.95640963, 0.16223329]]), array([[-1.04681164]]))\n"
     ]
    },
    {
     "name": "stdout",
     "output_type": "stream",
     "text": [
      "Process 3299: Observer : observed data (array([[0.95833881, 0.16889474]]), array([[-1.04697312]]))"
     ]
    },
    {
     "name": "stdout",
     "output_type": "stream",
     "text": [
      "\n"
     ]
    },
    {
     "name": "stdout",
     "output_type": "stream",
     "text": [
      "Process 2816: Main     : received data (array([[0.95833881, 0.16889474]]), array([[-1.04697312]]))\n"
     ]
    },
    {
     "name": "stdout",
     "output_type": "stream",
     "text": [
      "Process 2816: Main     : iteration 3 starts\n"
     ]
    },
    {
     "name": "stdout",
     "output_type": "stream",
     "text": [
      "Process 3303: Observer : observing data at point [[0. 0.]]"
     ]
    },
    {
     "name": "stdout",
     "output_type": "stream",
     "text": [
      "Process 3299: Observer : observing data at point [[0. 1.]]"
     ]
    },
    {
     "name": "stdout",
     "output_type": "stream",
     "text": [
      "Process 3306: Observer : observing data at point [[0.         0.52410295]]"
     ]
    },
    {
     "name": "stdout",
     "output_type": "stream",
     "text": [
      "\n"
     ]
    },
    {
     "name": "stdout",
     "output_type": "stream",
     "text": [
      "\n"
     ]
    },
    {
     "name": "stdout",
     "output_type": "stream",
     "text": [
      "\n"
     ]
    },
    {
     "name": "stdout",
     "output_type": "stream",
     "text": [
      "Process 3299: Objective: pretends like it's doing something for 3.0s"
     ]
    },
    {
     "name": "stdout",
     "output_type": "stream",
     "text": [
      "Process 3303: Objective: pretends like it's doing something for 0.0s"
     ]
    },
    {
     "name": "stdout",
     "output_type": "stream",
     "text": [
      "Process 3306: Objective: pretends like it's doing something for 1.6s"
     ]
    },
    {
     "name": "stdout",
     "output_type": "stream",
     "text": [
      "\n"
     ]
    },
    {
     "name": "stdout",
     "output_type": "stream",
     "text": [
      "\n"
     ]
    },
    {
     "name": "stdout",
     "output_type": "stream",
     "text": [
      "\n"
     ]
    },
    {
     "name": "stdout",
     "output_type": "stream",
     "text": [
      "Process 3303: Observer : observed data (array([[0., 0.]]), array([[4.87620974]]))"
     ]
    },
    {
     "name": "stdout",
     "output_type": "stream",
     "text": [
      "\n"
     ]
    },
    {
     "name": "stdout",
     "output_type": "stream",
     "text": [
      "Process 2816: Main     : received data (array([[0., 0.]]), array([[4.87620974]]))\n"
     ]
    },
    {
     "name": "stdout",
     "output_type": "stream",
     "text": [
      "Process 3306: Observer : observed data (array([[0.        , 0.52410295]]), array([[0.86399602]]))"
     ]
    },
    {
     "name": "stdout",
     "output_type": "stream",
     "text": [
      "\n"
     ]
    },
    {
     "name": "stdout",
     "output_type": "stream",
     "text": [
      "Process 2816: Main     : received data (array([[0.        , 0.52410295]]), array([[0.86399602]]))\n"
     ]
    },
    {
     "name": "stdout",
     "output_type": "stream",
     "text": [
      "Process 3299: Observer : observed data (array([[0., 1.]]), array([[-0.71803081]]))"
     ]
    },
    {
     "name": "stdout",
     "output_type": "stream",
     "text": [
      "\n"
     ]
    },
    {
     "name": "stdout",
     "output_type": "stream",
     "text": [
      "Process 2816: Main     : received data (array([[0., 1.]]), array([[-0.71803081]]))\n"
     ]
    },
    {
     "name": "stdout",
     "output_type": "stream",
     "text": [
      "Process 2816: Main     : iteration 4 starts\n"
     ]
    },
    {
     "name": "stdout",
     "output_type": "stream",
     "text": [
      "Process 3303: Observer : observing data at point [[0.20058826 1.        ]]"
     ]
    },
    {
     "name": "stdout",
     "output_type": "stream",
     "text": [
      "Process 3306: Observer : observing data at point [[0.18262868 0.86969278]]"
     ]
    },
    {
     "name": "stdout",
     "output_type": "stream",
     "text": [
      "\n"
     ]
    },
    {
     "name": "stdout",
     "output_type": "stream",
     "text": [
      "Process 3299: Observer : observing data at point [[0.31849126 1.        ]]"
     ]
    },
    {
     "name": "stdout",
     "output_type": "stream",
     "text": [
      "\n"
     ]
    },
    {
     "name": "stdout",
     "output_type": "stream",
     "text": [
      "Process 3306: Objective: pretends like it's doing something for 3.2s"
     ]
    },
    {
     "name": "stdout",
     "output_type": "stream",
     "text": [
      "\n"
     ]
    },
    {
     "name": "stdout",
     "output_type": "stream",
     "text": [
      "Process 3303: Objective: pretends like it's doing something for 3.6s"
     ]
    },
    {
     "name": "stdout",
     "output_type": "stream",
     "text": [
      "Process 3299: Objective: pretends like it's doing something for 4.0s"
     ]
    },
    {
     "name": "stdout",
     "output_type": "stream",
     "text": [
      "\n"
     ]
    },
    {
     "name": "stdout",
     "output_type": "stream",
     "text": [
      "\n"
     ]
    },
    {
     "name": "stdout",
     "output_type": "stream",
     "text": [
      "\n"
     ]
    },
    {
     "name": "stdout",
     "output_type": "stream",
     "text": [
      "Process 3306: Observer : observed data (array([[0.18262868, 0.86969278]]), array([[-0.83061928]]))"
     ]
    },
    {
     "name": "stdout",
     "output_type": "stream",
     "text": [
      "\n"
     ]
    },
    {
     "name": "stdout",
     "output_type": "stream",
     "text": [
      "Process 2816: Main     : received data (array([[0.18262868, 0.86969278]]), array([[-0.83061928]]))\n"
     ]
    },
    {
     "name": "stdout",
     "output_type": "stream",
     "text": [
      "Process 3303: Observer : observed data (array([[0.20058826, 1.        ]]), array([[-0.39344606]]))"
     ]
    },
    {
     "name": "stdout",
     "output_type": "stream",
     "text": [
      "\n"
     ]
    },
    {
     "name": "stdout",
     "output_type": "stream",
     "text": [
      "Process 2816: Main     : received data (array([[0.20058826, 1.        ]]), array([[-0.39344606]]))\n"
     ]
    },
    {
     "name": "stdout",
     "output_type": "stream",
     "text": [
      "Process 3299: Observer : observed data (array([[0.31849126, 1.        ]]), array([[0.75441947]]))"
     ]
    },
    {
     "name": "stdout",
     "output_type": "stream",
     "text": [
      "\n"
     ]
    },
    {
     "name": "stdout",
     "output_type": "stream",
     "text": [
      "Process 2816: Main     : received data (array([[0.31849126, 1.        ]]), array([[0.75441947]]))\n"
     ]
    },
    {
     "name": "stdout",
     "output_type": "stream",
     "text": [
      "Process 2816: Main     : iteration 5 starts\n"
     ]
    },
    {
     "name": "stdout",
     "output_type": "stream",
     "text": [
      "Process 3303: Observer : observing data at point [[0.09457377 0.8426571 ]]"
     ]
    },
    {
     "name": "stdout",
     "output_type": "stream",
     "text": [
      "Process 3306: Observer : observing data at point [[0.09269675 0.86753951]]"
     ]
    },
    {
     "name": "stdout",
     "output_type": "stream",
     "text": [
      "Process 3299: Observer : observing data at point [[0.09020525 0.89225097]]"
     ]
    },
    {
     "name": "stdout",
     "output_type": "stream",
     "text": [
      "\n"
     ]
    },
    {
     "name": "stdout",
     "output_type": "stream",
     "text": [
      "Process 3303: Objective: pretends like it's doing something for 2.8s"
     ]
    },
    {
     "name": "stdout",
     "output_type": "stream",
     "text": [
      "\n"
     ]
    },
    {
     "name": "stdout",
     "output_type": "stream",
     "text": [
      "\n"
     ]
    },
    {
     "name": "stdout",
     "output_type": "stream",
     "text": [
      "\n"
     ]
    },
    {
     "name": "stdout",
     "output_type": "stream",
     "text": [
      "Process 3306: Objective: pretends like it's doing something for 2.9s"
     ]
    },
    {
     "name": "stdout",
     "output_type": "stream",
     "text": [
      "\n"
     ]
    },
    {
     "name": "stdout",
     "output_type": "stream",
     "text": [
      "Process 3299: Objective: pretends like it's doing something for 2.9s"
     ]
    },
    {
     "name": "stdout",
     "output_type": "stream",
     "text": [
      "\n"
     ]
    },
    {
     "name": "stdout",
     "output_type": "stream",
     "text": [
      "Process 3303: Observer : observed data (array([[0.09457377, 0.8426571 ]]), array([[-1.01990648]]))"
     ]
    },
    {
     "name": "stdout",
     "output_type": "stream",
     "text": [
      "\n"
     ]
    },
    {
     "name": "stdout",
     "output_type": "stream",
     "text": [
      "Process 2816: Main     : received data (array([[0.09457377, 0.8426571 ]]), array([[-1.01990648]]))\n"
     ]
    },
    {
     "name": "stdout",
     "output_type": "stream",
     "text": [
      "Process 3306: Observer : observed data (array([[0.09269675, 0.86753951]]), array([[-1.02421067]]))"
     ]
    },
    {
     "name": "stdout",
     "output_type": "stream",
     "text": [
      "\n"
     ]
    },
    {
     "name": "stdout",
     "output_type": "stream",
     "text": [
      "Process 2816: Main     : received data (array([[0.09269675, 0.86753951]]), array([[-1.02421067]]))\n"
     ]
    },
    {
     "name": "stdout",
     "output_type": "stream",
     "text": [
      "Process 3299: Observer : observed data (array([[0.09020525, 0.89225097]]), array([[-1.02392248]]))"
     ]
    },
    {
     "name": "stdout",
     "output_type": "stream",
     "text": [
      "\n"
     ]
    },
    {
     "name": "stdout",
     "output_type": "stream",
     "text": [
      "Process 2816: Main     : received data (array([[0.09020525, 0.89225097]]), array([[-1.02392248]]))\n"
     ]
    },
    {
     "name": "stdout",
     "output_type": "stream",
     "text": [
      "Process 2816: Main     : iteration 6 starts\n"
     ]
    },
    {
     "name": "stdout",
     "output_type": "stream",
     "text": [
      "Process 3306: Observer : observing data at point [[0.8652289 0.       ]]"
     ]
    },
    {
     "name": "stdout",
     "output_type": "stream",
     "text": [
      "Process 3303: Observer : observing data at point [[0.67797177 0.        ]]"
     ]
    },
    {
     "name": "stdout",
     "output_type": "stream",
     "text": [
      "Process 3299: Observer : observing data at point [[0.81693068 0.        ]]"
     ]
    },
    {
     "name": "stdout",
     "output_type": "stream",
     "text": [
      "\n"
     ]
    },
    {
     "name": "stdout",
     "output_type": "stream",
     "text": [
      "\n"
     ]
    },
    {
     "name": "stdout",
     "output_type": "stream",
     "text": [
      "\n"
     ]
    },
    {
     "name": "stdout",
     "output_type": "stream",
     "text": [
      "Process 3303: Objective: pretends like it's doing something for 2.0s"
     ]
    },
    {
     "name": "stdout",
     "output_type": "stream",
     "text": [
      "\n"
     ]
    },
    {
     "name": "stdout",
     "output_type": "stream",
     "text": [
      "Process 3306: Objective: pretends like it's doing something for 2.6s"
     ]
    },
    {
     "name": "stdout",
     "output_type": "stream",
     "text": [
      "\n"
     ]
    },
    {
     "name": "stdout",
     "output_type": "stream",
     "text": [
      "Process 3299: Objective: pretends like it's doing something for 2.5s"
     ]
    },
    {
     "name": "stdout",
     "output_type": "stream",
     "text": [
      "\n"
     ]
    },
    {
     "name": "stdout",
     "output_type": "stream",
     "text": [
      "Process 3303: Observer : observed data (array([[0.67797177, 0.        ]]), array([[-0.75209517]]))"
     ]
    },
    {
     "name": "stdout",
     "output_type": "stream",
     "text": [
      "\n"
     ]
    },
    {
     "name": "stdout",
     "output_type": "stream",
     "text": [
      "Process 2816: Main     : received data (array([[0.67797177, 0.        ]]), array([[-0.75209517]]))\n"
     ]
    },
    {
     "name": "stdout",
     "output_type": "stream",
     "text": [
      "Process 3299: Observer : observed data (array([[0.81693068, 0.        ]]), array([[-0.72798751]]))"
     ]
    },
    {
     "name": "stdout",
     "output_type": "stream",
     "text": [
      "\n"
     ]
    },
    {
     "name": "stdout",
     "output_type": "stream",
     "text": [
      "Process 2816: Main     : received data (array([[0.81693068, 0.        ]]), array([[-0.72798751]]))\n"
     ]
    },
    {
     "name": "stdout",
     "output_type": "stream",
     "text": [
      "Process 3306: Observer : observed data (array([[0.8652289, 0.       ]]), array([[-0.84072418]]))"
     ]
    },
    {
     "name": "stdout",
     "output_type": "stream",
     "text": [
      "\n"
     ]
    },
    {
     "name": "stdout",
     "output_type": "stream",
     "text": [
      "Process 2816: Main     : received data (array([[0.8652289, 0.       ]]), array([[-0.84072418]]))\n"
     ]
    },
    {
     "name": "stdout",
     "output_type": "stream",
     "text": [
      "Process 2816: Main     : iteration 7 starts\n"
     ]
    },
    {
     "name": "stdout",
     "output_type": "stream",
     "text": [
      "Process 3303: Observer : observing data at point [[0.49562732 0.21530351]]"
     ]
    },
    {
     "name": "stdout",
     "output_type": "stream",
     "text": [
      "Process 3306: Observer : observing data at point [[0.44578357 0.31863527]]"
     ]
    },
    {
     "name": "stdout",
     "output_type": "stream",
     "text": [
      "\n"
     ]
    },
    {
     "name": "stdout",
     "output_type": "stream",
     "text": [
      "Process 3299: Observer : observing data at point [[0.51007586 0.10647994]]"
     ]
    },
    {
     "name": "stdout",
     "output_type": "stream",
     "text": [
      "\n"
     ]
    },
    {
     "name": "stdout",
     "output_type": "stream",
     "text": [
      "\n"
     ]
    },
    {
     "name": "stdout",
     "output_type": "stream",
     "text": [
      "Process 3303: Objective: pretends like it's doing something for 2.1s"
     ]
    },
    {
     "name": "stdout",
     "output_type": "stream",
     "text": [
      "\n"
     ]
    },
    {
     "name": "stdout",
     "output_type": "stream",
     "text": [
      "Process 3306: Objective: pretends like it's doing something for 2.3s"
     ]
    },
    {
     "name": "stdout",
     "output_type": "stream",
     "text": [
      "Process 3299: Objective: pretends like it's doing something for 1.8s"
     ]
    },
    {
     "name": "stdout",
     "output_type": "stream",
     "text": [
      "\n"
     ]
    },
    {
     "name": "stdout",
     "output_type": "stream",
     "text": [
      "\n"
     ]
    },
    {
     "name": "stdout",
     "output_type": "stream",
     "text": [
      "Process 3299: Observer : observed data (array([[0.51007586, 0.10647994]]), array([[-1.00267822]]))"
     ]
    },
    {
     "name": "stdout",
     "output_type": "stream",
     "text": [
      "\n"
     ]
    },
    {
     "name": "stdout",
     "output_type": "stream",
     "text": [
      "Process 2816: Main     : received data (array([[0.51007586, 0.10647994]]), array([[-1.00267822]]))\n"
     ]
    },
    {
     "name": "stdout",
     "output_type": "stream",
     "text": [
      "Process 3303: Observer : observed data (array([[0.49562732, 0.21530351]]), array([[-1.00086498]]))"
     ]
    },
    {
     "name": "stdout",
     "output_type": "stream",
     "text": [
      "\n"
     ]
    },
    {
     "name": "stdout",
     "output_type": "stream",
     "text": [
      "Process 2816: Main     : received data (array([[0.49562732, 0.21530351]]), array([[-1.00086498]]))\n"
     ]
    },
    {
     "name": "stdout",
     "output_type": "stream",
     "text": [
      "Process 3306: Observer : observed data (array([[0.44578357, 0.31863527]]), array([[-0.86079994]]))"
     ]
    },
    {
     "name": "stdout",
     "output_type": "stream",
     "text": [
      "\n"
     ]
    },
    {
     "name": "stdout",
     "output_type": "stream",
     "text": [
      "Process 2816: Main     : received data (array([[0.44578357, 0.31863527]]), array([[-0.86079994]]))\n"
     ]
    },
    {
     "name": "stdout",
     "output_type": "stream",
     "text": [
      "Process 2816: Main     : iteration 8 starts\n"
     ]
    },
    {
     "name": "stdout",
     "output_type": "stream",
     "text": [
      "Process 3299: Observer : observing data at point [[0.56091136 0.15206999]]"
     ]
    },
    {
     "name": "stdout",
     "output_type": "stream",
     "text": [
      "Process 3306: Observer : observing data at point [[0.56224022 0.13782571]]"
     ]
    },
    {
     "name": "stdout",
     "output_type": "stream",
     "text": [
      "\n"
     ]
    },
    {
     "name": "stdout",
     "output_type": "stream",
     "text": [
      "Process 3303: Observer : observing data at point [[0.56035902 0.16647604]]"
     ]
    },
    {
     "name": "stdout",
     "output_type": "stream",
     "text": [
      "Process 3306: Objective: pretends like it's doing something for 2.1s"
     ]
    },
    {
     "name": "stdout",
     "output_type": "stream",
     "text": [
      "\n"
     ]
    },
    {
     "name": "stdout",
     "output_type": "stream",
     "text": [
      "\n"
     ]
    },
    {
     "name": "stdout",
     "output_type": "stream",
     "text": [
      "\n"
     ]
    },
    {
     "name": "stdout",
     "output_type": "stream",
     "text": [
      "Process 3303: Objective: pretends like it's doing something for 2.2s"
     ]
    },
    {
     "name": "stdout",
     "output_type": "stream",
     "text": [
      "\n"
     ]
    },
    {
     "name": "stdout",
     "output_type": "stream",
     "text": [
      "Process 3299: Objective: pretends like it's doing something for 2.1s"
     ]
    },
    {
     "name": "stdout",
     "output_type": "stream",
     "text": [
      "\n"
     ]
    },
    {
     "name": "stdout",
     "output_type": "stream",
     "text": [
      "Process 3306: Observer : observed data (array([[0.56224022, 0.13782571]]), array([[-1.03956773]]))"
     ]
    },
    {
     "name": "stdout",
     "output_type": "stream",
     "text": [
      "\n"
     ]
    },
    {
     "name": "stdout",
     "output_type": "stream",
     "text": [
      "Process 2816: Main     : received data (array([[0.56224022, 0.13782571]]), array([[-1.03956773]]))\n"
     ]
    },
    {
     "name": "stdout",
     "output_type": "stream",
     "text": [
      "Process 3299: Observer : observed data (array([[0.56091136, 0.15206999]]), array([[-1.03975654]]))"
     ]
    },
    {
     "name": "stdout",
     "output_type": "stream",
     "text": [
      "\n"
     ]
    },
    {
     "name": "stdout",
     "output_type": "stream",
     "text": [
      "Process 2816: Main     : received data (array([[0.56091136, 0.15206999]]), array([[-1.03975654]]))\n"
     ]
    },
    {
     "name": "stdout",
     "output_type": "stream",
     "text": [
      "Process 3303: Observer : observed data (array([[0.56035902, 0.16647604]]), array([[-1.03762277]]))"
     ]
    },
    {
     "name": "stdout",
     "output_type": "stream",
     "text": [
      "\n"
     ]
    },
    {
     "name": "stdout",
     "output_type": "stream",
     "text": [
      "Process 2816: Main     : received data (array([[0.56035902, 0.16647604]]), array([[-1.03762277]]))\n"
     ]
    },
    {
     "name": "stdout",
     "output_type": "stream",
     "text": [
      "Process 2816: Main     : iteration 9 starts\n"
     ]
    },
    {
     "name": "stdout",
     "output_type": "stream",
     "text": [
      "Process 3306: Observer : observing data at point [[0.18362134 0.66556587]]"
     ]
    },
    {
     "name": "stdout",
     "output_type": "stream",
     "text": [
      "Process 3299: Observer : observing data at point [[0.17239195 0.69069353]]"
     ]
    },
    {
     "name": "stdout",
     "output_type": "stream",
     "text": [
      "Process 3303: Observer : observing data at point [[0.1950452  0.64081689]]"
     ]
    },
    {
     "name": "stdout",
     "output_type": "stream",
     "text": [
      "\n"
     ]
    },
    {
     "name": "stdout",
     "output_type": "stream",
     "text": [
      "\n"
     ]
    },
    {
     "name": "stdout",
     "output_type": "stream",
     "text": [
      "Process 3299: Objective: pretends like it's doing something for 2.6s"
     ]
    },
    {
     "name": "stdout",
     "output_type": "stream",
     "text": [
      "Process 3306: Objective: pretends like it's doing something for 2.5s"
     ]
    },
    {
     "name": "stdout",
     "output_type": "stream",
     "text": [
      "\n"
     ]
    },
    {
     "name": "stdout",
     "output_type": "stream",
     "text": [
      "\n"
     ]
    },
    {
     "name": "stdout",
     "output_type": "stream",
     "text": [
      "Process 3303: Objective: pretends like it's doing something for 2.5s"
     ]
    },
    {
     "name": "stdout",
     "output_type": "stream",
     "text": [
      "\n"
     ]
    },
    {
     "name": "stdout",
     "output_type": "stream",
     "text": [
      "\n"
     ]
    },
    {
     "name": "stdout",
     "output_type": "stream",
     "text": [
      "Process 3303: Observer : observed data (array([[0.1950452 , 0.64081689]]), array([[-0.95059016]]))"
     ]
    },
    {
     "name": "stdout",
     "output_type": "stream",
     "text": [
      "\n"
     ]
    },
    {
     "name": "stdout",
     "output_type": "stream",
     "text": [
      "Process 2816: Main     : received data (array([[0.1950452 , 0.64081689]]), array([[-0.95059016]]))\n"
     ]
    },
    {
     "name": "stdout",
     "output_type": "stream",
     "text": [
      "Process 3306: Observer : observed data (array([[0.18362134, 0.66556587]]), array([[-0.97691712]]))"
     ]
    },
    {
     "name": "stdout",
     "output_type": "stream",
     "text": [
      "\n"
     ]
    },
    {
     "name": "stdout",
     "output_type": "stream",
     "text": [
      "Process 2816: Main     : received data (array([[0.18362134, 0.66556587]]), array([[-0.97691712]]))\n"
     ]
    },
    {
     "name": "stdout",
     "output_type": "stream",
     "text": [
      "Process 3299: Observer : observed data (array([[0.17239195, 0.69069353]]), array([[-0.9995446]]))"
     ]
    },
    {
     "name": "stdout",
     "output_type": "stream",
     "text": [
      "\n"
     ]
    },
    {
     "name": "stdout",
     "output_type": "stream",
     "text": [
      "Process 2816: Main     : received data (array([[0.17239195, 0.69069353]]), array([[-0.9995446]]))\n"
     ]
    },
    {
     "name": "stdout",
     "output_type": "stream",
     "text": [
      "Got 33 observations in 54.05s\n"
     ]
    }
   ],
   "source": [
    "# setup Ask Tell BO\n",
    "gpflow_model = build_gpr(initial_data, search_space, likelihood_variance=1e-7)\n",
    "model = GaussianProcessRegression(gpflow_model)\n",
    "\n",
    "local_penalization_acq = LocalPenalization(search_space, num_samples=2000)\n",
    "local_penalization_rule = EfficientGlobalOptimization(  # type: ignore\n",
    "    num_query_points=num_workers, builder=local_penalization_acq\n",
    ")\n",
    "\n",
    "sync_bo = AskTellOptimizer(\n",
    "    search_space, initial_data, model, local_penalization_rule\n",
    ")\n",
    "\n",
    "\n",
    "# retrieve process id for nice logging\n",
    "pid = os.getpid()\n",
    "# create point and observation queues\n",
    "m = Manager()\n",
    "pq = m.Queue()\n",
    "oq = m.Queue()\n",
    "# keep track of all workers we have launched\n",
    "observer_processes = []\n",
    "\n",
    "start = timeit.default_timer()\n",
    "try:\n",
    "    observer_processes = create_worker_processes(num_workers, pq, oq)\n",
    "\n",
    "    # BO loop starts here\n",
    "    for i in range(num_iterations):\n",
    "        print(f\"Process {pid}: Main     : iteration {i} starts\", flush=True)\n",
    "\n",
    "        # get a batch of points from Trieste, send them to points queue\n",
    "        # each worker picks up a point and processes it\n",
    "        points = sync_bo.ask()\n",
    "        for point in points.numpy():\n",
    "            pq.put(point.reshape(1, -1))  # reshape is to make point a 2d array\n",
    "\n",
    "        # now we wait for all workers to finish\n",
    "        # we create an empty dataset and wait\n",
    "        # until we collected as many observations in it\n",
    "        # as there were points in the batch\n",
    "        all_new_data = Dataset(\n",
    "            tf.zeros((0, initial_data.query_points.shape[1]), tf.float64),\n",
    "            tf.zeros((0, initial_data.observations.shape[1]), tf.float64),\n",
    "        )\n",
    "        while len(all_new_data) < num_workers:\n",
    "            # this line blocks the process until new data is available in the queue\n",
    "            new_data = oq.get()\n",
    "            print(\n",
    "                f\"Process {pid}: Main     : received data {new_data}\",\n",
    "                flush=True,\n",
    "            )\n",
    "\n",
    "            new_data = Dataset(\n",
    "                query_points=tf.constant(new_data[0], dtype=tf.float64),\n",
    "                observations=tf.constant(new_data[1], dtype=tf.float64),\n",
    "            )\n",
    "\n",
    "            all_new_data = all_new_data + new_data\n",
    "\n",
    "        # tell Trieste of new batch of observations\n",
    "        sync_bo.tell(all_new_data)\n",
    "\n",
    "finally:\n",
    "    terminate_processes(observer_processes)\n",
    "stop = timeit.default_timer()\n",
    "\n",
    "# Collect the observations, compute the running time\n",
    "sync_lp_observations = (\n",
    "    sync_bo.to_result().try_get_final_dataset().observations\n",
    "    - SCALED_BRANIN_MINIMUM\n",
    ")\n",
    "sync_lp_time = stop - start\n",
    "print(f\"Got {len(sync_lp_observations)} observations in {sync_lp_time:.2f}s\")"
   ]
  },
  {
   "cell_type": "markdown",
   "id": "dd5d5383",
   "metadata": {},
   "source": [
    "## Comparison\n",
    "To compare outcomes of sync and async runs, let's plot their respective regrets side by side, and print out the running time. For this toy problem we expect async scenario to run a little bit faster on machines with multiple CPU."
   ]
  },
  {
   "cell_type": "code",
   "execution_count": 10,
   "id": "78f75d5d",
   "metadata": {
    "execution": {
     "iopub.execute_input": "2022-02-15T12:41:25.737071Z",
     "iopub.status.busy": "2022-02-15T12:41:25.731382Z",
     "iopub.status.idle": "2022-02-15T12:41:27.794076Z",
     "shell.execute_reply": "2022-02-15T12:41:27.794598Z"
    }
   },
   "outputs": [
    {
     "data": {
      "image/png": "[encoded data removed]",
      "text/plain": [
       "<Figure size 432x288 with 2 Axes>"
      ]
     },
     "metadata": {
      "needs_background": "light"
     },
     "output_type": "display_data"
    }
   ],
   "source": [
    "from util.plotting import plot_regret\n",
    "import matplotlib.pyplot as plt\n",
    "\n",
    "fig, ax = plt.subplots(1, 2)\n",
    "\n",
    "sync_lp_min_idx = tf.squeeze(tf.argmin(sync_lp_observations, axis=0))\n",
    "async_lp_min_idx = tf.squeeze(tf.argmin(async_lp_observations, axis=0))\n",
    "\n",
    "plot_regret(\n",
    "    sync_lp_observations.numpy(),\n",
    "    ax[0],\n",
    "    num_init=len(initial_data),\n",
    "    idx_best=sync_lp_min_idx,\n",
    ")\n",
    "ax[0].set_yscale(\"log\")\n",
    "ax[0].set_ylabel(\"Regret\")\n",
    "ax[0].set_ylim(0.0000001, 100)\n",
    "ax[0].set_xlabel(\"# evaluations\")\n",
    "ax[0].set_title(\n",
    "    f\"Sync LP, {len(sync_lp_observations)} points, time {sync_lp_time:.2f}\"\n",
    ")\n",
    "\n",
    "plot_regret(\n",
    "    async_lp_observations.numpy(),\n",
    "    ax[1],\n",
    "    num_init=len(initial_data),\n",
    "    idx_best=async_lp_min_idx,\n",
    ")\n",
    "ax[1].set_yscale(\"log\")\n",
    "ax[1].set_ylabel(\"Regret\")\n",
    "ax[1].set_ylim(0.0000001, 100)\n",
    "ax[1].set_xlabel(\"# evaluations\")\n",
    "ax[1].set_title(\n",
    "    f\"Async LP, {len(async_lp_observations)} points, time {async_lp_time:.2f}s\"\n",
    ")\n",
    "\n",
    "fig.tight_layout()"
   ]
  }
 ],
 "metadata": {
  "jupytext": {
   "cell_metadata_filter": "-all",
   "main_language": "python",
   "notebook_metadata_filter": "-all",
   "text_representation": {
    "extension": ".py",
    "format_name": "percent"
   }
  },
  "language_info": {
   "codemirror_mode": {
    "name": "ipython",
    "version": 3
   },
   "file_extension": ".py",
   "mimetype": "text/x-python",
   "name": "python",
   "nbconvert_exporter": "python",
   "pygments_lexer": "ipython3",
   "version": "3.7.12"
  }
 },
 "nbformat": 4,
 "nbformat_minor": 5
}
