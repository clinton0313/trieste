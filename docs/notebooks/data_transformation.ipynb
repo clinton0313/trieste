{
 "cells": [
  {
   "cell_type": "markdown",
   "id": "f61d80ae",
   "metadata": {},
   "source": [
    "# Data transformation with the help of Ask-Tell interface."
   ]
  },
  {
   "cell_type": "code",
   "execution_count": 1,
   "id": "7317ea70",
   "metadata": {
    "execution": {
     "iopub.execute_input": "2022-02-15T12:48:04.567314Z",
     "iopub.status.busy": "2022-02-15T12:48:04.566712Z",
     "iopub.status.idle": "2022-02-15T12:48:07.806956Z",
     "shell.execute_reply": "2022-02-15T12:48:07.805979Z"
    },
    "lines_to_next_cell": 2
   },
   "outputs": [],
   "source": [
    "import os\n",
    "\n",
    "import gpflow\n",
    "import matplotlib.pyplot as plt\n",
    "import numpy as np\n",
    "import tensorflow as tf\n",
    "import tensorflow_probability as tfp\n",
    "from util.plotting import plot_regret\n",
    "\n",
    "import trieste\n",
    "from trieste.ask_tell_optimization import AskTellOptimizer\n",
    "from trieste.data import Dataset\n",
    "from trieste.models.gpflow import GaussianProcessRegression\n",
    "from trieste.models.optimizer import Optimizer\n",
    "from trieste.objectives import TRID_10_MINIMUM, TRID_10_SEARCH_SPACE, trid_10\n",
    "from trieste.objectives.utils import mk_observer\n",
    "from trieste.space import Box\n",
    "\n",
    "np.random.seed(1794)\n",
    "tf.random.set_seed(1794)\n",
    "\n",
    "# silence TF warnings and info messages, only print errors\n",
    "# https://stackoverflow.com/questions/35911252/disable-tensorflow-debugging-information\n",
    "os.environ[\"TF_CPP_MIN_LOG_LEVEL\"] = \"3\"\n",
    "tf.get_logger().setLevel(\"ERROR\")"
   ]
  },
  {
   "cell_type": "markdown",
   "id": "c5afa96d",
   "metadata": {},
   "source": [
    "## Describe the problem\n",
    "\n",
    "In this notebook, we show how to perform data transformation during Bayesian optimization. This is usually required by the models. A very common example is normalising the data before fitting the model, either min-max or standard normalization. This is usually done for numerical stability, or to improve or speed up the convergence.\n",
    "\n",
    "In regression problems it is easy to perform data transformations as you do it once before training. In Bayesian optimization this is more complex, as the data added with each iteration and needs to be transformed as well before the model is updated. At the moment Trieste cannot do such transformations for the user. Luckily, this can be easily done by using the [Ask-Tell interface](ask_tell_optimization.ipynb), as it provides greater control of the optimization loop. The disadvantage is that it is up to the user to take care of all the data transformation.\n",
    "\n",
    "As an example, we will be searching for a minimum of a 10-dimensional [Trid function](https://www.sfu.ca/~ssurjano/trid.html). The range of variation of the Trid function values is large. It varies from values of $10^5$ to its global minimum $f(x^∗) = −210$. This large variation range makes it difficult for Bayesian optimization with Gaussian processes to find the global minimum. However, with data normalisation it becomes possible (see <cite data-cite=\"hebbal2019bayesian\">[Hebbal et al. 2019](https://arxiv.org/abs/1905.03350)</cite>)."
   ]
  },
  {
   "cell_type": "code",
   "execution_count": 2,
   "id": "fb705956",
   "metadata": {
    "execution": {
     "iopub.execute_input": "2022-02-15T12:48:07.812029Z",
     "iopub.status.busy": "2022-02-15T12:48:07.811464Z",
     "iopub.status.idle": "2022-02-15T12:48:07.813654Z",
     "shell.execute_reply": "2022-02-15T12:48:07.814187Z"
    },
    "lines_to_next_cell": 2
   },
   "outputs": [],
   "source": [
    "function = trid_10\n",
    "F_MINIMUM = TRID_10_MINIMUM\n",
    "search_space = TRID_10_SEARCH_SPACE"
   ]
  },
  {
   "cell_type": "markdown",
   "id": "9bb561e9",
   "metadata": {},
   "source": [
    "## Collect initial points\n",
    "\n",
    "We set up the observer as usual over the Trid function search space, using Sobol sampling to sample the initial points."
   ]
  },
  {
   "cell_type": "code",
   "execution_count": 3,
   "id": "e3bac082",
   "metadata": {
    "execution": {
     "iopub.execute_input": "2022-02-15T12:48:07.819643Z",
     "iopub.status.busy": "2022-02-15T12:48:07.818768Z",
     "iopub.status.idle": "2022-02-15T12:48:07.826671Z",
     "shell.execute_reply": "2022-02-15T12:48:07.827127Z"
    }
   },
   "outputs": [],
   "source": [
    "num_initial_points = 50\n",
    "\n",
    "observer = mk_observer(function)\n",
    "\n",
    "initial_query_points = search_space.sample_sobol(num_initial_points)\n",
    "initial_data = observer(initial_query_points)"
   ]
  },
  {
   "cell_type": "markdown",
   "id": "8e5eb5da",
   "metadata": {},
   "source": [
    "## Model the objective function\n",
    "\n",
    "The Bayesian optimization procedure estimates the next best points to query by using a probabilistic model of the objective. We'll use a Gaussian process (GP) model, built using GPflow. The GPflow models cannot be used directly in our Bayesian optimization routines, so we build a GPflow's `GPR` model and pass it to the `GaussianProcessRegression` wrapper.\n",
    "\n",
    "Here as the first example, we model the objective function using the original data, without performing any data transformation. In the next example we will model it using normalised data. We also put priors on the parameters of our GP model's kernel in order to stabilize model fitting. We found the priors below to be highly effective for objective functions defined over the unit hypercube and with an output normalised to have zero mean and unit variance. Since the non-normalised data from the original objective function comes with different scaling, we rescale the priors based on approximate standard deviation of inputs and outputs."
   ]
  },
  {
   "cell_type": "code",
   "execution_count": 4,
   "id": "3fff51e6",
   "metadata": {
    "execution": {
     "iopub.execute_input": "2022-02-15T12:48:07.835889Z",
     "iopub.status.busy": "2022-02-15T12:48:07.835284Z",
     "iopub.status.idle": "2022-02-15T12:48:07.874168Z",
     "shell.execute_reply": "2022-02-15T12:48:07.874713Z"
    },
    "lines_to_next_cell": 2
   },
   "outputs": [],
   "source": [
    "def build_gp_model(data, x_std=1.0, y_std=0.1):\n",
    "\n",
    "    dim = data.query_points.shape[-1]\n",
    "    empirical_variance = tf.math.reduce_variance(data.observations)\n",
    "\n",
    "    prior_lengthscales = [0.2 * x_std * np.sqrt(dim)] * dim\n",
    "    prior_scale = tf.cast(1.0, dtype=tf.float64)\n",
    "\n",
    "    x_std = tf.cast(x_std, dtype=tf.float64)\n",
    "    y_std = tf.cast(y_std, dtype=tf.float64)\n",
    "\n",
    "    kernel = gpflow.kernels.Matern52(\n",
    "        variance=empirical_variance,\n",
    "        lengthscales=prior_lengthscales,\n",
    "    )\n",
    "    kernel.variance.prior = tfp.distributions.LogNormal(\n",
    "        tf.math.log(y_std), prior_scale\n",
    "    )\n",
    "    kernel.lengthscales.prior = tfp.distributions.LogNormal(\n",
    "        tf.math.log(kernel.lengthscales), prior_scale\n",
    "    )\n",
    "    gpr = gpflow.models.GPR(\n",
    "        data.astuple(),\n",
    "        kernel,\n",
    "        mean_function=gpflow.mean_functions.Constant(),\n",
    "        noise_variance=1e-5,\n",
    "    )\n",
    "    gpflow.set_trainable(gpr.likelihood, False)\n",
    "\n",
    "    return GaussianProcessRegression(gpr)\n",
    "\n",
    "\n",
    "model = build_gp_model(initial_data, 20, 10000)"
   ]
  },
  {
   "cell_type": "markdown",
   "id": "36fa9424",
   "metadata": {},
   "source": [
    "## Run the optimization loop\n",
    "\n",
    "We can now run the Bayesian optimization loop by defining a `BayesianOptimizer` and calling its `optimize` method.\n",
    "\n",
    "The optimizer uses an acquisition rule to choose where in the search space to try on each optimization step. We'll be using Expected improvement acquisition function - it is used by default, so no need to specify it.\n",
    "\n",
    "We'll run the optimizer for 100 steps. Note: this may take a while!"
   ]
  },
  {
   "cell_type": "code",
   "execution_count": 5,
   "id": "4d52abf7",
   "metadata": {
    "execution": {
     "iopub.execute_input": "2022-02-15T12:48:07.881749Z",
     "iopub.status.busy": "2022-02-15T12:48:07.881142Z",
     "iopub.status.idle": "2022-02-15T12:50:40.134988Z",
     "shell.execute_reply": "2022-02-15T12:50:40.135482Z"
    },
    "lines_to_next_cell": 2
   },
   "outputs": [
    {
     "name": "stdout",
     "output_type": "stream",
     "text": [
      "Optimization completed without errors\n"
     ]
    }
   ],
   "source": [
    "num_steps = 100\n",
    "\n",
    "bo = trieste.bayesian_optimizer.BayesianOptimizer(observer, search_space)\n",
    "result = bo.optimize(num_steps, initial_data, model)\n",
    "dataset = result.try_get_final_dataset()"
   ]
  },
  {
   "cell_type": "markdown",
   "id": "0c5fd943",
   "metadata": {},
   "source": [
    "## Explore the results\n",
    "\n",
    "We can now get the best point found by the optimizer. Note this isn't necessarily the point that was last evaluated. We will also plot regret for each optimization step.\n",
    "\n",
    "We can see that the optimization did not get close to the global optimum of -210."
   ]
  },
  {
   "cell_type": "code",
   "execution_count": 6,
   "id": "c6e72b8b",
   "metadata": {
    "execution": {
     "iopub.execute_input": "2022-02-15T12:50:40.145494Z",
     "iopub.status.busy": "2022-02-15T12:50:40.144266Z",
     "iopub.status.idle": "2022-02-15T12:50:40.150413Z",
     "shell.execute_reply": "2022-02-15T12:50:40.149892Z"
    }
   },
   "outputs": [
    {
     "name": "stdout",
     "output_type": "stream",
     "text": [
      "query point: [13.16241527 15.14978572 39.59754826 33.25901088 11.88421121 41.94497455\n",
      " 26.68305257 -0.09315364 42.47048936 66.57413941]\n",
      "observation: [4403.86389765]\n"
     ]
    }
   ],
   "source": [
    "query_points = dataset.query_points.numpy()\n",
    "observations = dataset.observations.numpy()\n",
    "\n",
    "arg_min_idx = tf.squeeze(tf.argmin(observations, axis=0))\n",
    "\n",
    "print(f\"query point: {query_points[arg_min_idx, :]}\")\n",
    "print(f\"observation: {observations[arg_min_idx, :]}\")"
   ]
  },
  {
   "cell_type": "markdown",
   "id": "54f3097f",
   "metadata": {},
   "source": [
    "We can plot regret for each optimization step to illustrate the performance more completely."
   ]
  },
  {
   "cell_type": "code",
   "execution_count": 7,
   "id": "eb6b3879",
   "metadata": {
    "execution": {
     "iopub.execute_input": "2022-02-15T12:50:40.165585Z",
     "iopub.status.busy": "2022-02-15T12:50:40.160965Z",
     "iopub.status.idle": "2022-02-15T12:50:42.687214Z",
     "shell.execute_reply": "2022-02-15T12:50:42.687640Z"
    }
   },
   "outputs": [
    {
     "data": {
      "image/png": "[encoded data removed]",
      "text/plain": [
       "<Figure size 432x288 with 1 Axes>"
      ]
     },
     "metadata": {
      "needs_background": "light"
     },
     "output_type": "display_data"
    }
   ],
   "source": [
    "def plot_regret_with_min(dataset):\n",
    "    observations = dataset.observations.numpy()\n",
    "    arg_min_idx = tf.squeeze(tf.argmin(observations, axis=0))\n",
    "\n",
    "    suboptimality = observations - F_MINIMUM.numpy()\n",
    "    ax = plt.gca()\n",
    "    plot_regret(\n",
    "        suboptimality, ax, num_init=num_initial_points, idx_best=arg_min_idx\n",
    "    )\n",
    "\n",
    "    ax.set_yscale(\"log\")\n",
    "    ax.set_ylabel(\"Regret\")\n",
    "    ax.set_ylim(0.001, 100000)\n",
    "    ax.set_xlabel(\"# evaluations\")\n",
    "\n",
    "\n",
    "plot_regret_with_min(dataset)"
   ]
  },
  {
   "cell_type": "markdown",
   "id": "ea6d67f0",
   "metadata": {},
   "source": [
    "# Data transformation with the help of Ask-Tell interface\n",
    "\n",
    "We will now show how data normalization can improve results achieved by Bayesian optimization.\n",
    "\n",
    "We first write a simple function for doing the standardisation of the data, that is, we scale the data to have a zero mean and a variance equal to 1. We also return the mean and standard deviation parameters as we will use them to transform new points."
   ]
  },
  {
   "cell_type": "code",
   "execution_count": 8,
   "id": "e6034d38",
   "metadata": {
    "execution": {
     "iopub.execute_input": "2022-02-15T12:50:42.693555Z",
     "iopub.status.busy": "2022-02-15T12:50:42.690046Z",
     "iopub.status.idle": "2022-02-15T12:50:42.695664Z",
     "shell.execute_reply": "2022-02-15T12:50:42.696284Z"
    }
   },
   "outputs": [],
   "source": [
    "def normalise(x, mean=None, std=None):\n",
    "    if mean is None:\n",
    "        mean = tf.math.reduce_mean(x, 0, True)\n",
    "    if std is None:\n",
    "        std = tf.math.sqrt(tf.math.reduce_variance(x, 0, True))\n",
    "    return (x - mean) / std, mean, std"
   ]
  },
  {
   "cell_type": "markdown",
   "id": "1673c785",
   "metadata": {},
   "source": [
    "\n",
    "Note that we also need to modify the search space, from the original $[-100, 100]$ for all 10 dimensions to the normalised space. For illustration, $[-1,1]$ will suffice here."
   ]
  },
  {
   "cell_type": "code",
   "execution_count": 9,
   "id": "77f5454a",
   "metadata": {
    "execution": {
     "iopub.execute_input": "2022-02-15T12:50:42.701617Z",
     "iopub.status.busy": "2022-02-15T12:50:42.701086Z",
     "iopub.status.idle": "2022-02-15T12:50:42.715204Z",
     "shell.execute_reply": "2022-02-15T12:50:42.715615Z"
    },
    "lines_to_next_cell": 2
   },
   "outputs": [],
   "source": [
    "search_space = Box([-1], [1]) ** 10"
   ]
  },
  {
   "cell_type": "markdown",
   "id": "9aa47f2c",
   "metadata": {},
   "source": [
    "\n",
    "Next we have to define our own Bayesian optimization loop where Ask-Tell optimizer performs optimisation, and we take care of data transformation and model fitting.\n",
    "\n",
    "We are using a simple approach whereby we normalize the initial data and use estimated mean and standard deviation from the initial normalization for transforming the new points that the Bayesian optimization loop adds to the dataset."
   ]
  },
  {
   "cell_type": "code",
   "execution_count": 10,
   "id": "655dc250",
   "metadata": {
    "execution": {
     "iopub.execute_input": "2022-02-15T12:50:42.723139Z",
     "iopub.status.busy": "2022-02-15T12:50:42.722445Z",
     "iopub.status.idle": "2022-02-15T12:59:37.792058Z",
     "shell.execute_reply": "2022-02-15T12:59:37.791436Z"
    },
    "lines_to_next_cell": 2
   },
   "outputs": [],
   "source": [
    "x_sta, x_mean, x_std = normalise(initial_data.query_points)\n",
    "y_sta, y_mean, y_std = normalise(initial_data.observations)\n",
    "normalised_data = Dataset(query_points=x_sta, observations=y_sta)\n",
    "\n",
    "dataset = initial_data\n",
    "for step in range(num_steps):\n",
    "\n",
    "    if step == 0:\n",
    "        model = build_gp_model(normalised_data)\n",
    "        model.optimize(normalised_data)\n",
    "    else:\n",
    "        model.update(normalised_data)\n",
    "        model.optimize(normalised_data)\n",
    "\n",
    "    # Asking for a new point to observe\n",
    "    ask_tell = AskTellOptimizer(search_space, normalised_data, model)\n",
    "    query_point = ask_tell.ask()\n",
    "\n",
    "    # Transforming the query point back to the non-normalised space\n",
    "    query_point = x_std * query_point + x_mean\n",
    "\n",
    "    # Evaluating the function at the new query point\n",
    "    new_data_point = observer(query_point)\n",
    "    dataset = dataset + new_data_point\n",
    "\n",
    "    # Normalize the dataset with the new query point and observation\n",
    "    x_sta, _, _ = normalise(dataset.query_points, x_mean, x_std)\n",
    "    y_sta, _, _ = normalise(dataset.observations, y_mean, y_std)\n",
    "    normalised_data = Dataset(query_points=x_sta, observations=y_sta)"
   ]
  },
  {
   "cell_type": "markdown",
   "id": "e656d67d",
   "metadata": {},
   "source": [
    "\n",
    "We inspect again the best point found by the optimizer and plot regret for each optimization step.\n",
    "\n",
    "We can see that the optimization now gets almost to the global optimum of -210."
   ]
  },
  {
   "cell_type": "code",
   "execution_count": 11,
   "id": "38f0b5f2",
   "metadata": {
    "execution": {
     "iopub.execute_input": "2022-02-15T12:59:37.797297Z",
     "iopub.status.busy": "2022-02-15T12:59:37.796675Z",
     "iopub.status.idle": "2022-02-15T12:59:40.566673Z",
     "shell.execute_reply": "2022-02-15T12:59:40.567379Z"
    },
    "lines_to_next_cell": 2
   },
   "outputs": [
    {
     "name": "stdout",
     "output_type": "stream",
     "text": [
      "query point: [ 8.98300891 17.00171375 24.78719197 29.96769552 31.40902266 28.69907553\n",
      " 26.50491577 23.84078396 17.31395633  9.09915015]\n",
      "observation: [-201.88523399]\n"
     ]
    },
    {
     "data": {
      "image/png": "[encoded data removed]",
      "text/plain": [
       "<Figure size 432x288 with 1 Axes>"
      ]
     },
     "metadata": {
      "needs_background": "light"
     },
     "output_type": "display_data"
    }
   ],
   "source": [
    "query_points = dataset.query_points.numpy()\n",
    "observations = dataset.observations.numpy()\n",
    "\n",
    "arg_min_idx = tf.squeeze(tf.argmin(observations, axis=0))\n",
    "\n",
    "plot_regret_with_min(dataset)\n",
    "\n",
    "print(f\"query point: {query_points[arg_min_idx, :]}\")\n",
    "print(f\"observation: {observations[arg_min_idx, :]}\")"
   ]
  },
  {
   "cell_type": "markdown",
   "id": "408e8ca1",
   "metadata": {},
   "source": [
    "## LICENSE\n",
    "\n",
    "[Apache License 2.0](https://github.com/secondmind-labs/trieste/blob/develop/LICENSE)"
   ]
  }
 ],
 "metadata": {
  "jupytext": {
   "cell_metadata_filter": "-all",
   "encoding": "# -*- coding: utf-8 -*-",
   "main_language": "python",
   "notebook_metadata_filter": "-all",
   "text_representation": {
    "extension": ".py",
    "format_name": "percent"
   }
  },
  "language_info": {
   "codemirror_mode": {
    "name": "ipython",
    "version": 3
   },
   "file_extension": ".py",
   "mimetype": "text/x-python",
   "name": "python",
   "nbconvert_exporter": "python",
   "pygments_lexer": "ipython3",
   "version": "3.7.12"
  }
 },
 "nbformat": 4,
 "nbformat_minor": 5
}
