{
 "cells": [
  {
   "cell_type": "markdown",
   "id": "c638a8ae",
   "metadata": {},
   "source": [
    "# Building models with configuration dictionaries\n",
    "\n",
    "If you are an expert user of Trieste and some modelling library, GPflow for example, then building models via a configuration dictionary might be a useful alternative to working with model and optimizer wrappers. Here we provide an overview of how to use configuration dictionaries."
   ]
  },
  {
   "cell_type": "code",
   "execution_count": 1,
   "id": "91baebbb",
   "metadata": {
    "execution": {
     "iopub.execute_input": "2022-02-15T13:22:40.613708Z",
     "iopub.status.busy": "2022-02-15T13:22:40.612967Z",
     "iopub.status.idle": "2022-02-15T13:22:43.390412Z",
     "shell.execute_reply": "2022-02-15T13:22:43.389588Z"
    },
    "lines_to_next_cell": 2
   },
   "outputs": [],
   "source": [
    "import os\n",
    "\n",
    "os.environ[\"TF_CPP_MIN_LOG_LEVEL\"] = \"3\"\n",
    "\n",
    "import gpflow\n",
    "import numpy as np\n",
    "import tensorflow as tf\n",
    "import tensorflow_probability as tfp\n",
    "\n",
    "tf.get_logger().setLevel(\"ERROR\")\n",
    "\n",
    "import trieste\n",
    "from trieste.objectives import (\n",
    "    BRANIN_SEARCH_SPACE,\n",
    "    SCALED_BRANIN_MINIMUM,\n",
    "    scaled_branin,\n",
    ")\n",
    "from trieste.objectives.utils import mk_observer\n",
    "from trieste.space import Box\n",
    "\n",
    "np.random.seed(1793)\n",
    "tf.random.set_seed(1793)"
   ]
  },
  {
   "cell_type": "markdown",
   "id": "c2adb7d5",
   "metadata": {},
   "source": [
    "## Finding a minimum of the Branin function\n",
    "\n",
    "In this example, as in many other tutorials, we look to find the minimum value of the familiar two-dimensional Branin function over the hypercube $[0, 1]^2$."
   ]
  },
  {
   "cell_type": "code",
   "execution_count": 2,
   "id": "8498f34f",
   "metadata": {
    "execution": {
     "iopub.execute_input": "2022-02-15T13:22:43.395972Z",
     "iopub.status.busy": "2022-02-15T13:22:43.395412Z",
     "iopub.status.idle": "2022-02-15T13:22:43.402996Z",
     "shell.execute_reply": "2022-02-15T13:22:43.402332Z"
    },
    "lines_to_next_cell": 2
   },
   "outputs": [],
   "source": [
    "# convert the objective function to a single-output observer\n",
    "observer = trieste.objectives.utils.mk_observer(scaled_branin)\n",
    "\n",
    "# Sample the observer over the search space\n",
    "num_initial_points = 5\n",
    "search_space = BRANIN_SEARCH_SPACE\n",
    "initial_query_points = search_space.sample_sobol(num_initial_points)\n",
    "initial_data = observer(initial_query_points)"
   ]
  },
  {
   "cell_type": "markdown",
   "id": "7fb63868",
   "metadata": {},
   "source": [
    "## Standard way of setting up a model of the objective function\n",
    "\n",
    "The Bayesian optimization procedure estimates the next best points to query by using a probabilistic model of the objective. We'll use Gaussian Process (GP) regression in this tutorial, as provided by GPflow.\n",
    "\n",
    "The GPflow models cannot be used directly in our Bayesian optimization routines, only through a valid model wrapper. Trieste has wrappers that support several popular models. For instance, `GPR` and `SGPR` models from GPflow have to be used with the `GaussianProcessRegression` wrapper. These wrappers standardise outputs from all models, deal with preparation of the data and implement additional methods needed for Bayesian optimization.\n",
    "\n",
    "Typical process of setting up a valid model would go as follow.  We first set up a GPR model, using some initial data to set some parameters."
   ]
  },
  {
   "cell_type": "code",
   "execution_count": 3,
   "id": "f4ccc602",
   "metadata": {
    "execution": {
     "iopub.execute_input": "2022-02-15T13:22:43.410921Z",
     "iopub.status.busy": "2022-02-15T13:22:43.410324Z",
     "iopub.status.idle": "2022-02-15T13:22:43.437735Z",
     "shell.execute_reply": "2022-02-15T13:22:43.438824Z"
    },
    "lines_to_next_cell": 2
   },
   "outputs": [],
   "source": [
    "from gpflow.models import GPR\n",
    "from trieste.models.gpflow import GaussianProcessRegression\n",
    "from trieste.models.optimizer import Optimizer\n",
    "\n",
    "\n",
    "def build_model(data):\n",
    "    variance = tf.math.reduce_variance(data.observations)\n",
    "    kernel = gpflow.kernels.Matern52(variance=variance, lengthscales=[0.2, 0.2])\n",
    "    gpr = gpflow.models.GPR(data.astuple(), kernel, noise_variance=1e-5)\n",
    "    return gpr\n",
    "\n",
    "\n",
    "gpflow_model = build_model(initial_data)"
   ]
  },
  {
   "cell_type": "markdown",
   "id": "646d9141",
   "metadata": {},
   "source": [
    "Usually constructing a GPflow model would be enough, as it is the only required argument for the model wrappers. Wrappers have other arguments — an `optimizer` argument as a rule and potentially some additional model arguments (for example, `num_kernel_samples` in `GaussianProcessRegression`). These arguments are set to sensible defaults and hence typically we can simplify the model building."
   ]
  },
  {
   "cell_type": "code",
   "execution_count": 4,
   "id": "7bea4dd0",
   "metadata": {
    "execution": {
     "iopub.execute_input": "2022-02-15T13:22:43.445424Z",
     "iopub.status.busy": "2022-02-15T13:22:43.443544Z",
     "iopub.status.idle": "2022-02-15T13:22:43.446314Z",
     "shell.execute_reply": "2022-02-15T13:22:43.447119Z"
    }
   },
   "outputs": [],
   "source": [
    "model = GaussianProcessRegression(gpflow_model)"
   ]
  },
  {
   "cell_type": "markdown",
   "id": "d6bc408f",
   "metadata": {},
   "source": [
    "However, as expert users, we might want to customize the optimizer for the model and set some arguments that we want to pass to it. We need to use Trieste's optimizer wrappers for that; here `Optimizer` would be the suitable wrapper. We'll optimize our model with GPflow's Scipy optimizer and pass some custom parameters to it."
   ]
  },
  {
   "cell_type": "code",
   "execution_count": 5,
   "id": "9da29bba",
   "metadata": {
    "execution": {
     "iopub.execute_input": "2022-02-15T13:22:43.452872Z",
     "iopub.status.busy": "2022-02-15T13:22:43.451327Z",
     "iopub.status.idle": "2022-02-15T13:22:43.453683Z",
     "shell.execute_reply": "2022-02-15T13:22:43.454370Z"
    }
   },
   "outputs": [],
   "source": [
    "optimizer = Optimizer(\n",
    "    optimizer=gpflow.optimizers.Scipy(),\n",
    "    minimize_args={\"options\": dict(maxiter=100)},\n",
    ")"
   ]
  },
  {
   "cell_type": "markdown",
   "id": "5382f416",
   "metadata": {},
   "source": [
    "Finally we build a valid model that can be used with `BayesianOptimizer`. For the `GPR` model we need to use the `GaussianProcessRegression` wrapper. We also set a wrapper specific parameter for initialising the kernel."
   ]
  },
  {
   "cell_type": "code",
   "execution_count": 6,
   "id": "6ccccfee",
   "metadata": {
    "execution": {
     "iopub.execute_input": "2022-02-15T13:22:43.460196Z",
     "iopub.status.busy": "2022-02-15T13:22:43.458826Z",
     "iopub.status.idle": "2022-02-15T13:22:43.460901Z",
     "shell.execute_reply": "2022-02-15T13:22:43.461420Z"
    }
   },
   "outputs": [],
   "source": [
    "model = GaussianProcessRegression(\n",
    "    gpflow_model, optimizer=optimizer, num_kernel_samples=100\n",
    ")"
   ]
  },
  {
   "cell_type": "markdown",
   "id": "a8e2fbd9",
   "metadata": {},
   "source": [
    "We can now run the Bayesian optimization loop by defining a `BayesianOptimizer` and calling its `optimize` method. We are not interested in results here, but for the sake of completeness, lets run the Bayesian optimization as well."
   ]
  },
  {
   "cell_type": "code",
   "execution_count": 7,
   "id": "910f18d3",
   "metadata": {
    "execution": {
     "iopub.execute_input": "2022-02-15T13:22:43.468340Z",
     "iopub.status.busy": "2022-02-15T13:22:43.467753Z",
     "iopub.status.idle": "2022-02-15T13:22:50.687954Z",
     "shell.execute_reply": "2022-02-15T13:22:50.687219Z"
    },
    "lines_to_next_cell": 2
   },
   "outputs": [
    {
     "name": "stdout",
     "output_type": "stream",
     "text": [
      "Optimization completed without errors\n"
     ]
    }
   ],
   "source": [
    "bo = trieste.bayesian_optimizer.BayesianOptimizer(observer, search_space)\n",
    "result = bo.optimize(2, initial_data, model)"
   ]
  },
  {
   "cell_type": "markdown",
   "id": "c7e40cca",
   "metadata": {},
   "source": [
    "## Using configuration dictionaries\n",
    "\n",
    "Instead of working directly with model and optimizer wrappers, after you know them sufficiently well, you can skip them by using configuration dictionary. It consists of a dictionary with same four arguments that can be passed to any model wrapper: `model`, `model_args`, `optimizer` and `optimizer_args`.\n",
    "\n",
    "In the background Trieste combines the `optimizer` and `optimizer_args` to build an optimizer wrapper and then combines the `model`, `model_args` and optimizer wrapper to build a model using the appropriate model wrapper.\n",
    "\n",
    "Let's see this in action. We will re-use the `GPR` model we have created above and use the same additional arguments. As you can see, you retain all the flexibility but can skip working with the interfaces if you know them well already."
   ]
  },
  {
   "cell_type": "code",
   "execution_count": 8,
   "id": "32411f98",
   "metadata": {
    "execution": {
     "iopub.execute_input": "2022-02-15T13:22:50.694306Z",
     "iopub.status.busy": "2022-02-15T13:22:50.693553Z",
     "iopub.status.idle": "2022-02-15T13:22:50.697896Z",
     "shell.execute_reply": "2022-02-15T13:22:50.698426Z"
    }
   },
   "outputs": [],
   "source": [
    "model_config = {\n",
    "    \"model\": gpflow_model,\n",
    "    \"model_args\": {\n",
    "        \"num_kernel_samples\": 100,\n",
    "    },\n",
    "    \"optimizer\": gpflow.optimizers.Scipy(),\n",
    "    \"optimizer_args\": {\n",
    "        \"minimize_args\": {\"options\": dict(maxiter=100)},\n",
    "    },\n",
    "}"
   ]
  },
  {
   "cell_type": "markdown",
   "id": "484c0dc0",
   "metadata": {},
   "source": [
    "Next you simply pass the configuration dictionary to the `optimize` function and `BayesianOptimizer` will sort out which model and optimizer wrapper needs to be used to build a valid model."
   ]
  },
  {
   "cell_type": "code",
   "execution_count": 9,
   "id": "75c9869d",
   "metadata": {
    "execution": {
     "iopub.execute_input": "2022-02-15T13:22:50.703790Z",
     "iopub.status.busy": "2022-02-15T13:22:50.701434Z",
     "iopub.status.idle": "2022-02-15T13:22:54.985905Z",
     "shell.execute_reply": "2022-02-15T13:22:54.985336Z"
    },
    "lines_to_next_cell": 2
   },
   "outputs": [
    {
     "name": "stdout",
     "output_type": "stream",
     "text": [
      "Optimization completed without errors\n"
     ]
    }
   ],
   "source": [
    "bo = trieste.bayesian_optimizer.BayesianOptimizer(observer, search_space)\n",
    "result = bo.optimize(2, initial_data, model_config)"
   ]
  },
  {
   "cell_type": "markdown",
   "id": "b097a1eb",
   "metadata": {},
   "source": [
    "## Using configuration dictionaries for setting up experiments\n",
    "\n",
    "Another use case is in setting up experiments, where it becomes easier to benchmark Bayesian optimization algorithms. The advantage is that we can easily change the models and set up any argument for them from one experiment to another. We only need to change the object with the experiment specification (`experiment_conditions` below), while the rest of the code for executing experiments can stay the same. Below is an illustration of how could that look like."
   ]
  },
  {
   "cell_type": "code",
   "execution_count": 10,
   "id": "92411a9b",
   "metadata": {
    "execution": {
     "iopub.execute_input": "2022-02-15T13:22:54.997570Z",
     "iopub.status.busy": "2022-02-15T13:22:54.995914Z",
     "iopub.status.idle": "2022-02-15T13:23:23.716538Z",
     "shell.execute_reply": "2022-02-15T13:23:23.714627Z"
    },
    "lines_to_next_cell": 2
   },
   "outputs": [
    {
     "name": "stdout",
     "output_type": "stream",
     "text": [
      "Optimization completed without errors\n"
     ]
    },
    {
     "name": "stdout",
     "output_type": "stream",
     "text": [
      "Optimization completed without errors\n"
     ]
    }
   ],
   "source": [
    "from copy import deepcopy\n",
    "\n",
    "from gpflow.models import SVGP\n",
    "\n",
    "\n",
    "def build_gpr_model(data):\n",
    "    variance = tf.math.reduce_variance(data.observations)\n",
    "    kernel = gpflow.kernels.Matern52(variance=variance, lengthscales=[0.2, 0.2])\n",
    "    model = GPR(data.astuple(), kernel, noise_variance=1e-5)\n",
    "    return model\n",
    "\n",
    "\n",
    "def build_svgp_model(data):\n",
    "    inputs = data.query_points\n",
    "    variance = tf.math.reduce_variance(data.observations)\n",
    "    kernel = gpflow.kernels.Matern52(variance=variance, lengthscales=[0.2, 0.2])\n",
    "    model = SVGP(\n",
    "        kernel, gpflow.likelihoods.Gaussian(), inputs[:2], num_data=len(inputs)\n",
    "    )\n",
    "    return model\n",
    "\n",
    "\n",
    "def run_experiment(model_config):\n",
    "    bo = trieste.bayesian_optimizer.BayesianOptimizer(observer, search_space)\n",
    "    result = bo.optimize(2, initial_data, model_config)\n",
    "    return result\n",
    "\n",
    "\n",
    "# configuration shared by all experiments, this is modified by each experiment condition\n",
    "basic_config = {\"model\": build_gpr_model(initial_data)}\n",
    "\n",
    "# here we specify our experiments\n",
    "experiment_conditions = [\n",
    "    {\"model_args\": {\"num_kernel_samples\": 50}},\n",
    "    {\"model\": build_svgp_model(initial_data)},\n",
    "]\n",
    "\n",
    "results = []\n",
    "for exp in experiment_conditions:\n",
    "    model_config = deepcopy(basic_config)\n",
    "    for key in exp:\n",
    "        model_config[key] = exp[key]\n",
    "    results.append(run_experiment(model_config))"
   ]
  },
  {
   "cell_type": "markdown",
   "id": "1a5781c5",
   "metadata": {},
   "source": [
    "## Registry of supported models\n",
    "\n",
    "Configuration dictionaries are made possible with the `ModelRegistry` that contains mapping between each model (e.g. GPflow or GPflux) and the corresponding model wrapper and optimizer wrapper. All models that Trieste currently supports are registered there.\n",
    "\n",
    "You can add new models to the registry, in case you have custom models with which you wish to use the configuration dictionaries. Let's see an example of this. We will register the `GPMC` model from GPflow that is currently not supported. You would likely need to create a new model wrapper (and perhaps a new optimizer wrapper as well), but just for the sake of an example we will borrow here an existing `GaussianProcessRegression` wrapper."
   ]
  },
  {
   "cell_type": "code",
   "execution_count": 11,
   "id": "7b686db4",
   "metadata": {
    "execution": {
     "iopub.execute_input": "2022-02-15T13:23:23.735199Z",
     "iopub.status.busy": "2022-02-15T13:23:23.733862Z",
     "iopub.status.idle": "2022-02-15T13:23:23.739480Z",
     "shell.execute_reply": "2022-02-15T13:23:23.737614Z"
    }
   },
   "outputs": [
    {
     "name": "stdout",
     "output_type": "stream",
     "text": [
      "True\n"
     ]
    },
    {
     "data": {
      "text/plain": [
       "[gpflow.optimizers.scipy.Scipy,\n",
       " tensorflow.python.keras.optimizer_v2.optimizer_v2.OptimizerV2]"
      ]
     },
     "execution_count": 11,
     "metadata": {},
     "output_type": "execute_result"
    }
   ],
   "source": [
    "from trieste.models import ModelRegistry\n",
    "\n",
    "# adding the GPMC model to the registry\n",
    "ModelRegistry.register_model(gpflow.models.GPMC, GaussianProcessRegression)\n",
    "\n",
    "# check if it has been registered\n",
    "print(gpflow.models.GPMC in ModelRegistry.get_registered_models())\n",
    "\n",
    "# you can use the same command to get a list of all supported models and optimizers\n",
    "list(ModelRegistry.get_registered_models())\n",
    "list(ModelRegistry.get_registered_optimizers())"
   ]
  },
  {
   "cell_type": "markdown",
   "id": "2200bd91",
   "metadata": {
    "lines_to_next_cell": 2
   },
   "source": [
    "Note that you can use the same operation to overwrite an existing entry in the registry. For example, if you want to modify the interface used with a registered model and use the modified one instead."
   ]
  },
  {
   "cell_type": "markdown",
   "id": "7487bf25",
   "metadata": {},
   "source": [
    "## LICENSE\n",
    "\n",
    "[Apache License 2.0](https://github.com/secondmind-labs/trieste/blob/develop/LICENSE)"
   ]
  }
 ],
 "metadata": {
  "jupytext": {
   "cell_metadata_filter": "-all",
   "main_language": "python",
   "notebook_metadata_filter": "-all",
   "text_representation": {
    "extension": ".py",
    "format_name": "percent"
   }
  },
  "language_info": {
   "codemirror_mode": {
    "name": "ipython",
    "version": 3
   },
   "file_extension": ".py",
   "mimetype": "text/x-python",
   "name": "python",
   "nbconvert_exporter": "python",
   "pygments_lexer": "ipython3",
   "version": "3.7.12"
  }
 },
 "nbformat": 4,
 "nbformat_minor": 5
}
