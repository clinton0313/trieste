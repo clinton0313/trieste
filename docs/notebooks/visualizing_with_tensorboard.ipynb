{
 "cells": [
  {
   "cell_type": "markdown",
   "id": "ff81f705",
   "metadata": {},
   "source": [
    "# Tracking and visualizing optimizations using Tensorboard"
   ]
  },
  {
   "cell_type": "code",
   "execution_count": 1,
   "id": "f44f1ddd",
   "metadata": {
    "execution": {
     "iopub.execute_input": "2022-02-15T13:40:01.787401Z",
     "iopub.status.busy": "2022-02-15T13:40:01.786817Z",
     "iopub.status.idle": "2022-02-15T13:40:03.899856Z",
     "shell.execute_reply": "2022-02-15T13:40:03.898690Z"
    }
   },
   "outputs": [],
   "source": [
    "import numpy as np\n",
    "import tensorflow as tf\n",
    "\n",
    "np.random.seed(1793)\n",
    "tf.random.set_seed(1793)"
   ]
  },
  {
   "cell_type": "markdown",
   "id": "8c6f3194",
   "metadata": {},
   "source": [
    "We often wish to track or visualize the Bayesian optimization process, either during and following execution. This tutorial shows how to do this using the [TensorBoard](https://www.tensorflow.org/tensorboard) visualization toolkit. By default we keep track of evolution of the found minimizer and report timings for key parts of each optimization step."
   ]
  },
  {
   "cell_type": "markdown",
   "id": "dea2abc1",
   "metadata": {},
   "source": [
    "## Set up the problem\n",
    "\n",
    "For this tutorial, we'll use the same set up as before."
   ]
  },
  {
   "cell_type": "code",
   "execution_count": 2,
   "id": "283c1dfb",
   "metadata": {
    "execution": {
     "iopub.execute_input": "2022-02-15T13:40:03.906902Z",
     "iopub.status.busy": "2022-02-15T13:40:03.902822Z",
     "iopub.status.idle": "2022-02-15T13:40:04.587242Z",
     "shell.execute_reply": "2022-02-15T13:40:04.586023Z"
    }
   },
   "outputs": [],
   "source": [
    "import trieste\n",
    "\n",
    "search_space = trieste.space.Box([0, 0], [1, 1])\n",
    "observer = trieste.objectives.utils.mk_observer(\n",
    "    trieste.objectives.scaled_branin\n",
    ")\n",
    "initial_query_points = search_space.sample_sobol(5)\n",
    "initial_data = observer(initial_query_points)\n",
    "\n",
    "gpr = trieste.models.gpflow.build_gpr(initial_data, search_space)\n",
    "model = trieste.models.gpflow.GaussianProcessRegression(gpr)"
   ]
  },
  {
   "cell_type": "markdown",
   "id": "1edf2b3c",
   "metadata": {},
   "source": [
    "## Setting up TensorBoard\n",
    "\n",
    "Before running the optimization loop, we decide where TensorBoard summary logs should be stored, and set a summary writer to do this."
   ]
  },
  {
   "cell_type": "code",
   "execution_count": 3,
   "id": "e3541209",
   "metadata": {
    "execution": {
     "iopub.execute_input": "2022-02-15T13:40:04.593079Z",
     "iopub.status.busy": "2022-02-15T13:40:04.590428Z",
     "iopub.status.idle": "2022-02-15T13:40:04.755147Z",
     "shell.execute_reply": "2022-02-15T13:40:04.755709Z"
    }
   },
   "outputs": [],
   "source": [
    "# Clear any logs from previous runs\n",
    "!rm -rf logs/tensorboard\n",
    "\n",
    "summary_writer = tf.summary.create_file_writer(\"logs/tensorboard/experiment1\")\n",
    "trieste.logging.set_tensorboard_writer(summary_writer)"
   ]
  },
  {
   "cell_type": "markdown",
   "id": "cd29a09e",
   "metadata": {},
   "source": [
    "We can now also load the TensorBoard extension, though at this point there will not be any data to dispay. To run this notebook locally, remove the %%script line."
   ]
  },
  {
   "cell_type": "code",
   "execution_count": 4,
   "id": "1f4f482e",
   "metadata": {
    "execution": {
     "iopub.execute_input": "2022-02-15T13:40:04.768597Z",
     "iopub.status.busy": "2022-02-15T13:40:04.761682Z",
     "iopub.status.idle": "2022-02-15T13:40:04.780628Z",
     "shell.execute_reply": "2022-02-15T13:40:04.781568Z"
    }
   },
   "outputs": [
    {
     "name": "stdout",
     "output_type": "stream",
     "text": [
      "Loading TensorBoard...\n"
     ]
    }
   ],
   "source": [
    "%%script echo Loading TensorBoard...\n",
    "\n",
    "%load_ext tensorboard\n",
    "%tensorboard --logdir \"logs/tensorboard\""
   ]
  },
  {
   "cell_type": "markdown",
   "id": "337d2792",
   "metadata": {},
   "source": [
    "![TensorBoard empty page](figures/tensorboard_empty.png)"
   ]
  },
  {
   "cell_type": "markdown",
   "id": "d8f9ccf8",
   "metadata": {},
   "source": [
    "## Running and tracking the Bayesian Optimizer\n",
    "\n",
    "By setting the summary writer, we tell Trieste to log relevant information during optimization. While the optimization is running, we can refresh TensorBoard to see its progress."
   ]
  },
  {
   "cell_type": "code",
   "execution_count": 5,
   "id": "cdd2628a",
   "metadata": {
    "execution": {
     "iopub.execute_input": "2022-02-15T13:40:04.789780Z",
     "iopub.status.busy": "2022-02-15T13:40:04.788934Z",
     "iopub.status.idle": "2022-02-15T13:40:30.989950Z",
     "shell.execute_reply": "2022-02-15T13:40:30.992692Z"
    }
   },
   "outputs": [
    {
     "name": "stdout",
     "output_type": "stream",
     "text": [
      "Optimization completed without errors\n"
     ]
    }
   ],
   "source": [
    "num_steps = 15\n",
    "bo = trieste.bayesian_optimizer.BayesianOptimizer(observer, search_space)\n",
    "result, history = bo.optimize(num_steps, initial_data, model).astuple()"
   ]
  },
  {
   "cell_type": "markdown",
   "id": "8af70811",
   "metadata": {},
   "source": [
    "The data remains available when the optimization is over.\n",
    "\n",
    "![TensorBoard graphs](figures/tensorboard_bo.png)"
   ]
  },
  {
   "cell_type": "markdown",
   "id": "2dadef2d",
   "metadata": {},
   "source": [
    "## Logging additional model parameters\n",
    "\n",
    "When logging is enabled, Trieste decides what information is interesting enough to log. This includes objective and acquisition function values, and some (but not all) model parameters. To log additional model parameters, you can define your own model subclass and override the `log` method. For example, the following GPR subclass also logs the average lengthscale at each step."
   ]
  },
  {
   "cell_type": "code",
   "execution_count": 6,
   "id": "cbeb48bd",
   "metadata": {
    "execution": {
     "iopub.execute_input": "2022-02-15T13:40:31.000068Z",
     "iopub.status.busy": "2022-02-15T13:40:30.999421Z",
     "iopub.status.idle": "2022-02-15T13:40:31.002777Z",
     "shell.execute_reply": "2022-02-15T13:40:31.002148Z"
    }
   },
   "outputs": [],
   "source": [
    "class GPRExtraLogging(trieste.models.gpflow.GaussianProcessRegression):\n",
    "    def log(self):\n",
    "        super().log()\n",
    "        summary_writer = trieste.logging.get_tensorboard_writer()\n",
    "        if summary_writer:\n",
    "            with summary_writer.as_default(\n",
    "                step=trieste.logging.get_step_number()\n",
    "            ):\n",
    "                tf.summary.scalar(\n",
    "                    \"kernel.lengthscales.mean\",\n",
    "                    np.mean(self.get_kernel().lengthscales),\n",
    "                )\n",
    "\n",
    "\n",
    "model = GPRExtraLogging(gpr)"
   ]
  },
  {
   "cell_type": "markdown",
   "id": "7fced33b",
   "metadata": {},
   "source": [
    "Running with this model now also produces logs for the mean lengthscale. We mark this optimization run as a separate experiment by creating a new summary writer. Tensorboard will conveniently offer an automatic comparison of the experiments."
   ]
  },
  {
   "cell_type": "code",
   "execution_count": 7,
   "id": "408b14e5",
   "metadata": {
    "execution": {
     "iopub.execute_input": "2022-02-15T13:40:31.008635Z",
     "iopub.status.busy": "2022-02-15T13:40:31.007627Z",
     "iopub.status.idle": "2022-02-15T13:40:54.520448Z",
     "shell.execute_reply": "2022-02-15T13:40:54.521133Z"
    },
    "lines_to_next_cell": 1
   },
   "outputs": [
    {
     "name": "stdout",
     "output_type": "stream",
     "text": [
      "Optimization completed without errors\n"
     ]
    }
   ],
   "source": [
    "summary_writer = tf.summary.create_file_writer(\"logs/tensorboard/experiment2\")\n",
    "trieste.logging.set_tensorboard_writer(summary_writer)\n",
    "\n",
    "bo = trieste.bayesian_optimizer.BayesianOptimizer(observer, search_space)\n",
    "result, history = bo.optimize(num_steps, initial_data, model).astuple()"
   ]
  },
  {
   "cell_type": "markdown",
   "id": "8d269af8",
   "metadata": {},
   "source": [
    "![TensorBoard custom graphs](figures/tensorboard_custom.png)"
   ]
  },
  {
   "cell_type": "markdown",
   "id": "5125aa85",
   "metadata": {},
   "source": [
    "## Logging additional acquisition rule metrics\n",
    "\n",
    "\n",
    "Similarly, it is possible to log additional metrics connected to the acquisition rule by overriding rule's `acquire` method (or any other method used while evaluating the rule). For example, the following class also logs the mean coordinates of the selected points:"
   ]
  },
  {
   "cell_type": "code",
   "execution_count": 8,
   "id": "497c67ea",
   "metadata": {
    "execution": {
     "iopub.execute_input": "2022-02-15T13:40:54.530947Z",
     "iopub.status.busy": "2022-02-15T13:40:54.525537Z",
     "iopub.status.idle": "2022-02-15T13:41:18.163091Z",
     "shell.execute_reply": "2022-02-15T13:41:18.163840Z"
    }
   },
   "outputs": [
    {
     "name": "stdout",
     "output_type": "stream",
     "text": [
      "Optimization completed without errors\n"
     ]
    }
   ],
   "source": [
    "class EGOExtraLogging(trieste.acquisition.rule.EfficientGlobalOptimization):\n",
    "    def acquire(self, search_space, models, datasets=None):\n",
    "        points = super().acquire(search_space, models, datasets)\n",
    "        summary_writer = trieste.logging.get_tensorboard_writer()\n",
    "        if summary_writer:\n",
    "            with summary_writer.as_default(\n",
    "                step=trieste.logging.get_step_number()\n",
    "            ):\n",
    "                tf.summary.scalar(\n",
    "                    \"EGO.points_selected.mean\", tf.math.reduce_mean(points)\n",
    "                )\n",
    "        return points\n",
    "\n",
    "\n",
    "summary_writer = tf.summary.create_file_writer(\"logs/tensorboard/experiment3\")\n",
    "trieste.logging.set_tensorboard_writer(summary_writer)\n",
    "\n",
    "bo = trieste.bayesian_optimizer.BayesianOptimizer(observer, search_space)\n",
    "result, history = bo.optimize(  # type: ignore\n",
    "    num_steps, initial_data, model, acquisition_rule=EGOExtraLogging()\n",
    ").astuple()"
   ]
  },
  {
   "cell_type": "markdown",
   "id": "c6473e06",
   "metadata": {},
   "source": [
    "![TensorBoard custom rule graphs](figures/tensorboard_custom_rule.png)"
   ]
  },
  {
   "cell_type": "markdown",
   "id": "2da4674d",
   "metadata": {},
   "source": [
    "## Using Tensorboard with Ask-Tell Optimization\n",
    "\n",
    "To use Tensorboard logging with the [Ask-Tell interface](ask_tell_optimization.ipynb), you must also explicitly set the optimization step number before calling ask or tell:"
   ]
  },
  {
   "cell_type": "code",
   "execution_count": 9,
   "id": "3f515ad4",
   "metadata": {
    "execution": {
     "iopub.execute_input": "2022-02-15T13:41:18.171807Z",
     "iopub.status.busy": "2022-02-15T13:41:18.169923Z",
     "iopub.status.idle": "2022-02-15T13:41:41.306441Z",
     "shell.execute_reply": "2022-02-15T13:41:41.305593Z"
    }
   },
   "outputs": [],
   "source": [
    "summary_writer = tf.summary.create_file_writer(\"logs/tensorboard/experiment4\")\n",
    "trieste.logging.set_tensorboard_writer(summary_writer)\n",
    "\n",
    "ask_tell = trieste.ask_tell_optimization.AskTellOptimizer(\n",
    "    search_space, initial_data, model\n",
    ")\n",
    "\n",
    "for step in range(num_steps):\n",
    "    trieste.logging.set_step_number(step)\n",
    "    new_point = ask_tell.ask()\n",
    "    new_data = observer(new_point)\n",
    "    ask_tell.tell(new_data)"
   ]
  },
  {
   "cell_type": "markdown",
   "id": "d1e67e69",
   "metadata": {},
   "source": [
    "## LICENSE\n",
    "\n",
    "[Apache License 2.0](https://github.com/secondmind-labs/trieste/blob/develop/LICENSE)"
   ]
  }
 ],
 "metadata": {
  "jupytext": {
   "cell_metadata_filter": "-all",
   "main_language": "python",
   "notebook_metadata_filter": "-all",
   "text_representation": {
    "extension": ".py",
    "format_name": "percent"
   }
  },
  "language_info": {
   "codemirror_mode": {
    "name": "ipython",
    "version": 3
   },
   "file_extension": ".py",
   "mimetype": "text/x-python",
   "name": "python",
   "nbconvert_exporter": "python",
   "pygments_lexer": "ipython3",
   "version": "3.7.12"
  }
 },
 "nbformat": 4,
 "nbformat_minor": 5
}
