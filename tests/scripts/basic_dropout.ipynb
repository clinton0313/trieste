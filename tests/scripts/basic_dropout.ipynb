{
 "cells": [
  {
   "cell_type": "code",
   "execution_count": 18,
   "metadata": {},
   "outputs": [],
   "source": [
    "import numpy as np\n",
    "import tensorflow as tf\n",
    "\n",
    "from tensorflow.keras import Model\n",
    "from tensorflow.keras.layers import Dense, Dropout\n",
    "from util.misc import empty_dataset\n",
    "from trieste.models.keras import DropConnect, DropConnectNetwork, DropoutNetwork, MCDropout, get_tensor_spec_from_data\n",
    "\n",
    "from trieste.objectives import (\n",
    "    BRANIN_MINIMIZERS,\n",
    "    BRANIN_SEARCH_SPACE,\n",
    "    SCALED_BRANIN_MINIMUM,\n",
    "    SIMPLE_QUADRATIC_MINIMIZER,\n",
    "    SIMPLE_QUADRATIC_MINIMUM,\n",
    "    SIMPLE_QUADRATIC_SEARCH_SPACE,\n",
    "    scaled_branin,\n",
    "    simple_quadratic,\n",
    ")\n",
    "\n",
    "from trieste.data import Dataset\n",
    "from trieste.space import Box\n",
    "from trieste.objectives.utils import mk_observer\n",
    "\n",
    "tf.get_logger().setLevel(\"ERROR\")\n",
    "tf.keras.backend.set_floatx(\"float64\")\n"
   ]
  },
  {
   "cell_type": "code",
   "execution_count": 30,
   "metadata": {},
   "outputs": [],
   "source": [
    "search_space = Box([-3., -3.], [3., 3.])\n",
    "inputs = search_space.sample(100)\n",
    "observer = mk_observer(scaled_branin)\n",
    "data = observer(inputs)"
   ]
  },
  {
   "cell_type": "code",
   "execution_count": 34,
   "metadata": {},
   "outputs": [
    {
     "data": {
      "text/plain": [
       "TensorShape([100, 1])"
      ]
     },
     "execution_count": 34,
     "metadata": {},
     "output_type": "execute_result"
    }
   ],
   "source": [
    "data.observations.shape"
   ]
  },
  {
   "cell_type": "code",
   "execution_count": 77,
   "metadata": {},
   "outputs": [],
   "source": [
    "dense = tf.keras.layers.Dense(units = 100)\n",
    "dropconnect = DropConnect(units=100)\n",
    "dropout = tf.keras.layers.Dropout(rate=0.5)\n",
    "in_layer = tf.keras.layers.InputLayer(input_shape=(1))\n",
    "in_tensor = tf.keras.layers.Input(shape=(100,1))\n"
   ]
  },
  {
   "cell_type": "code",
   "execution_count": 78,
   "metadata": {},
   "outputs": [
    {
     "data": {
      "text/plain": [
       "[(None, 1)]"
      ]
     },
     "execution_count": 78,
     "metadata": {},
     "output_type": "execute_result"
    }
   ],
   "source": [
    "in_layer.input_shape"
   ]
  },
  {
   "cell_type": "code",
   "execution_count": 79,
   "metadata": {},
   "outputs": [],
   "source": [
    "outputs = dense(in_tensor)\n",
    "model = tf.keras.Model(in_tensor, outputs)"
   ]
  },
  {
   "cell_type": "code",
   "execution_count": 80,
   "metadata": {},
   "outputs": [
    {
     "ename": "ValueError",
     "evalue": "Input 0 of layer dense_10 is incompatible with the layer: : expected min_ndim=2, found ndim=1. Full shape received: (100,)",
     "output_type": "error",
     "traceback": [
      "\u001b[0;31m---------------------------------------------------------------------------\u001b[0m",
      "\u001b[0;31mValueError\u001b[0m                                Traceback (most recent call last)",
      "\u001b[1;32m/home/clinton/Documents/bse/masters_thesis/trieste/tests/scripts/basic_dropout.ipynb Cell 7'\u001b[0m in \u001b[0;36m<cell line: 1>\u001b[0;34m()\u001b[0m\n\u001b[0;32m----> <a href='vscode-notebook-cell:/home/clinton/Documents/bse/masters_thesis/trieste/tests/scripts/basic_dropout.ipynb#ch0000007?line=0'>1</a>\u001b[0m model(tf\u001b[39m.\u001b[39;49msqueeze(data\u001b[39m.\u001b[39;49mobservations))\n",
      "File \u001b[0;32m~/Documents/bse/masters_thesis/trieste/.trieste/lib/python3.8/site-packages/tensorflow/python/keras/engine/base_layer.py:1012\u001b[0m, in \u001b[0;36mLayer.__call__\u001b[0;34m(self, *args, **kwargs)\u001b[0m\n\u001b[1;32m   <a href='file:///home/clinton/Documents/bse/masters_thesis/trieste/.trieste/lib/python3.8/site-packages/tensorflow/python/keras/engine/base_layer.py?line=1007'>1008</a>\u001b[0m   \u001b[39mself\u001b[39m\u001b[39m.\u001b[39m_maybe_build(inputs)\n\u001b[1;32m   <a href='file:///home/clinton/Documents/bse/masters_thesis/trieste/.trieste/lib/python3.8/site-packages/tensorflow/python/keras/engine/base_layer.py?line=1009'>1010</a>\u001b[0m \u001b[39mwith\u001b[39;00m autocast_variable\u001b[39m.\u001b[39menable_auto_cast_variables(\n\u001b[1;32m   <a href='file:///home/clinton/Documents/bse/masters_thesis/trieste/.trieste/lib/python3.8/site-packages/tensorflow/python/keras/engine/base_layer.py?line=1010'>1011</a>\u001b[0m     \u001b[39mself\u001b[39m\u001b[39m.\u001b[39m_compute_dtype_object):\n\u001b[0;32m-> <a href='file:///home/clinton/Documents/bse/masters_thesis/trieste/.trieste/lib/python3.8/site-packages/tensorflow/python/keras/engine/base_layer.py?line=1011'>1012</a>\u001b[0m   outputs \u001b[39m=\u001b[39m call_fn(inputs, \u001b[39m*\u001b[39;49margs, \u001b[39m*\u001b[39;49m\u001b[39m*\u001b[39;49mkwargs)\n\u001b[1;32m   <a href='file:///home/clinton/Documents/bse/masters_thesis/trieste/.trieste/lib/python3.8/site-packages/tensorflow/python/keras/engine/base_layer.py?line=1013'>1014</a>\u001b[0m \u001b[39mif\u001b[39;00m \u001b[39mself\u001b[39m\u001b[39m.\u001b[39m_activity_regularizer:\n\u001b[1;32m   <a href='file:///home/clinton/Documents/bse/masters_thesis/trieste/.trieste/lib/python3.8/site-packages/tensorflow/python/keras/engine/base_layer.py?line=1014'>1015</a>\u001b[0m   \u001b[39mself\u001b[39m\u001b[39m.\u001b[39m_handle_activity_regularization(inputs, outputs)\n",
      "File \u001b[0;32m~/Documents/bse/masters_thesis/trieste/.trieste/lib/python3.8/site-packages/tensorflow/python/keras/engine/functional.py:424\u001b[0m, in \u001b[0;36mFunctional.call\u001b[0;34m(self, inputs, training, mask)\u001b[0m\n\u001b[1;32m    <a href='file:///home/clinton/Documents/bse/masters_thesis/trieste/.trieste/lib/python3.8/site-packages/tensorflow/python/keras/engine/functional.py?line=405'>406</a>\u001b[0m \u001b[39mdef\u001b[39;00m \u001b[39mcall\u001b[39m(\u001b[39mself\u001b[39m, inputs, training\u001b[39m=\u001b[39m\u001b[39mNone\u001b[39;00m, mask\u001b[39m=\u001b[39m\u001b[39mNone\u001b[39;00m):\n\u001b[1;32m    <a href='file:///home/clinton/Documents/bse/masters_thesis/trieste/.trieste/lib/python3.8/site-packages/tensorflow/python/keras/engine/functional.py?line=406'>407</a>\u001b[0m   \u001b[39m\"\"\"Calls the model on new inputs.\u001b[39;00m\n\u001b[1;32m    <a href='file:///home/clinton/Documents/bse/masters_thesis/trieste/.trieste/lib/python3.8/site-packages/tensorflow/python/keras/engine/functional.py?line=407'>408</a>\u001b[0m \n\u001b[1;32m    <a href='file:///home/clinton/Documents/bse/masters_thesis/trieste/.trieste/lib/python3.8/site-packages/tensorflow/python/keras/engine/functional.py?line=408'>409</a>\u001b[0m \u001b[39m  In this case `call` just reapplies\u001b[39;00m\n\u001b[0;32m   (...)\u001b[0m\n\u001b[1;32m    <a href='file:///home/clinton/Documents/bse/masters_thesis/trieste/.trieste/lib/python3.8/site-packages/tensorflow/python/keras/engine/functional.py?line=421'>422</a>\u001b[0m \u001b[39m      a list of tensors if there are more than one outputs.\u001b[39;00m\n\u001b[1;32m    <a href='file:///home/clinton/Documents/bse/masters_thesis/trieste/.trieste/lib/python3.8/site-packages/tensorflow/python/keras/engine/functional.py?line=422'>423</a>\u001b[0m \u001b[39m  \"\"\"\u001b[39;00m\n\u001b[0;32m--> <a href='file:///home/clinton/Documents/bse/masters_thesis/trieste/.trieste/lib/python3.8/site-packages/tensorflow/python/keras/engine/functional.py?line=423'>424</a>\u001b[0m   \u001b[39mreturn\u001b[39;00m \u001b[39mself\u001b[39;49m\u001b[39m.\u001b[39;49m_run_internal_graph(\n\u001b[1;32m    <a href='file:///home/clinton/Documents/bse/masters_thesis/trieste/.trieste/lib/python3.8/site-packages/tensorflow/python/keras/engine/functional.py?line=424'>425</a>\u001b[0m       inputs, training\u001b[39m=\u001b[39;49mtraining, mask\u001b[39m=\u001b[39;49mmask)\n",
      "File \u001b[0;32m~/Documents/bse/masters_thesis/trieste/.trieste/lib/python3.8/site-packages/tensorflow/python/keras/engine/functional.py:560\u001b[0m, in \u001b[0;36mFunctional._run_internal_graph\u001b[0;34m(self, inputs, training, mask)\u001b[0m\n\u001b[1;32m    <a href='file:///home/clinton/Documents/bse/masters_thesis/trieste/.trieste/lib/python3.8/site-packages/tensorflow/python/keras/engine/functional.py?line=556'>557</a>\u001b[0m   \u001b[39mcontinue\u001b[39;00m  \u001b[39m# Node is not computable, try skipping.\u001b[39;00m\n\u001b[1;32m    <a href='file:///home/clinton/Documents/bse/masters_thesis/trieste/.trieste/lib/python3.8/site-packages/tensorflow/python/keras/engine/functional.py?line=558'>559</a>\u001b[0m args, kwargs \u001b[39m=\u001b[39m node\u001b[39m.\u001b[39mmap_arguments(tensor_dict)\n\u001b[0;32m--> <a href='file:///home/clinton/Documents/bse/masters_thesis/trieste/.trieste/lib/python3.8/site-packages/tensorflow/python/keras/engine/functional.py?line=559'>560</a>\u001b[0m outputs \u001b[39m=\u001b[39m node\u001b[39m.\u001b[39;49mlayer(\u001b[39m*\u001b[39;49margs, \u001b[39m*\u001b[39;49m\u001b[39m*\u001b[39;49mkwargs)\n\u001b[1;32m    <a href='file:///home/clinton/Documents/bse/masters_thesis/trieste/.trieste/lib/python3.8/site-packages/tensorflow/python/keras/engine/functional.py?line=561'>562</a>\u001b[0m \u001b[39m# Update tensor_dict.\u001b[39;00m\n\u001b[1;32m    <a href='file:///home/clinton/Documents/bse/masters_thesis/trieste/.trieste/lib/python3.8/site-packages/tensorflow/python/keras/engine/functional.py?line=562'>563</a>\u001b[0m \u001b[39mfor\u001b[39;00m x_id, y \u001b[39min\u001b[39;00m \u001b[39mzip\u001b[39m(node\u001b[39m.\u001b[39mflat_output_ids, nest\u001b[39m.\u001b[39mflatten(outputs)):\n",
      "File \u001b[0;32m~/Documents/bse/masters_thesis/trieste/.trieste/lib/python3.8/site-packages/tensorflow/python/keras/engine/base_layer.py:998\u001b[0m, in \u001b[0;36mLayer.__call__\u001b[0;34m(self, *args, **kwargs)\u001b[0m\n\u001b[1;32m    <a href='file:///home/clinton/Documents/bse/masters_thesis/trieste/.trieste/lib/python3.8/site-packages/tensorflow/python/keras/engine/base_layer.py?line=994'>995</a>\u001b[0m \u001b[39mif\u001b[39;00m \u001b[39mself\u001b[39m\u001b[39m.\u001b[39m_autocast:\n\u001b[1;32m    <a href='file:///home/clinton/Documents/bse/masters_thesis/trieste/.trieste/lib/python3.8/site-packages/tensorflow/python/keras/engine/base_layer.py?line=995'>996</a>\u001b[0m   inputs \u001b[39m=\u001b[39m \u001b[39mself\u001b[39m\u001b[39m.\u001b[39m_maybe_cast_inputs(inputs, input_list)\n\u001b[0;32m--> <a href='file:///home/clinton/Documents/bse/masters_thesis/trieste/.trieste/lib/python3.8/site-packages/tensorflow/python/keras/engine/base_layer.py?line=997'>998</a>\u001b[0m input_spec\u001b[39m.\u001b[39;49massert_input_compatibility(\u001b[39mself\u001b[39;49m\u001b[39m.\u001b[39;49minput_spec, inputs, \u001b[39mself\u001b[39;49m\u001b[39m.\u001b[39;49mname)\n\u001b[1;32m    <a href='file:///home/clinton/Documents/bse/masters_thesis/trieste/.trieste/lib/python3.8/site-packages/tensorflow/python/keras/engine/base_layer.py?line=998'>999</a>\u001b[0m \u001b[39mif\u001b[39;00m eager:\n\u001b[1;32m   <a href='file:///home/clinton/Documents/bse/masters_thesis/trieste/.trieste/lib/python3.8/site-packages/tensorflow/python/keras/engine/base_layer.py?line=999'>1000</a>\u001b[0m   call_fn \u001b[39m=\u001b[39m \u001b[39mself\u001b[39m\u001b[39m.\u001b[39mcall\n",
      "File \u001b[0;32m~/Documents/bse/masters_thesis/trieste/.trieste/lib/python3.8/site-packages/tensorflow/python/keras/engine/input_spec.py:234\u001b[0m, in \u001b[0;36massert_input_compatibility\u001b[0;34m(input_spec, inputs, layer_name)\u001b[0m\n\u001b[1;32m    <a href='file:///home/clinton/Documents/bse/masters_thesis/trieste/.trieste/lib/python3.8/site-packages/tensorflow/python/keras/engine/input_spec.py?line=231'>232</a>\u001b[0m   ndim \u001b[39m=\u001b[39m x\u001b[39m.\u001b[39mshape\u001b[39m.\u001b[39mrank\n\u001b[1;32m    <a href='file:///home/clinton/Documents/bse/masters_thesis/trieste/.trieste/lib/python3.8/site-packages/tensorflow/python/keras/engine/input_spec.py?line=232'>233</a>\u001b[0m   \u001b[39mif\u001b[39;00m ndim \u001b[39mis\u001b[39;00m \u001b[39mnot\u001b[39;00m \u001b[39mNone\u001b[39;00m \u001b[39mand\u001b[39;00m ndim \u001b[39m<\u001b[39m spec\u001b[39m.\u001b[39mmin_ndim:\n\u001b[0;32m--> <a href='file:///home/clinton/Documents/bse/masters_thesis/trieste/.trieste/lib/python3.8/site-packages/tensorflow/python/keras/engine/input_spec.py?line=233'>234</a>\u001b[0m     \u001b[39mraise\u001b[39;00m \u001b[39mValueError\u001b[39;00m(\u001b[39m'\u001b[39m\u001b[39mInput \u001b[39m\u001b[39m'\u001b[39m \u001b[39m+\u001b[39m \u001b[39mstr\u001b[39m(input_index) \u001b[39m+\u001b[39m \u001b[39m'\u001b[39m\u001b[39m of layer \u001b[39m\u001b[39m'\u001b[39m \u001b[39m+\u001b[39m\n\u001b[1;32m    <a href='file:///home/clinton/Documents/bse/masters_thesis/trieste/.trieste/lib/python3.8/site-packages/tensorflow/python/keras/engine/input_spec.py?line=234'>235</a>\u001b[0m                      layer_name \u001b[39m+\u001b[39m \u001b[39m'\u001b[39m\u001b[39m is incompatible with the layer: \u001b[39m\u001b[39m'\u001b[39m\n\u001b[1;32m    <a href='file:///home/clinton/Documents/bse/masters_thesis/trieste/.trieste/lib/python3.8/site-packages/tensorflow/python/keras/engine/input_spec.py?line=235'>236</a>\u001b[0m                      \u001b[39m'\u001b[39m\u001b[39m: expected min_ndim=\u001b[39m\u001b[39m'\u001b[39m \u001b[39m+\u001b[39m \u001b[39mstr\u001b[39m(spec\u001b[39m.\u001b[39mmin_ndim) \u001b[39m+\u001b[39m\n\u001b[1;32m    <a href='file:///home/clinton/Documents/bse/masters_thesis/trieste/.trieste/lib/python3.8/site-packages/tensorflow/python/keras/engine/input_spec.py?line=236'>237</a>\u001b[0m                      \u001b[39m'\u001b[39m\u001b[39m, found ndim=\u001b[39m\u001b[39m'\u001b[39m \u001b[39m+\u001b[39m \u001b[39mstr\u001b[39m(ndim) \u001b[39m+\u001b[39m\n\u001b[1;32m    <a href='file:///home/clinton/Documents/bse/masters_thesis/trieste/.trieste/lib/python3.8/site-packages/tensorflow/python/keras/engine/input_spec.py?line=237'>238</a>\u001b[0m                      \u001b[39m'\u001b[39m\u001b[39m. Full shape received: \u001b[39m\u001b[39m'\u001b[39m \u001b[39m+\u001b[39m\n\u001b[1;32m    <a href='file:///home/clinton/Documents/bse/masters_thesis/trieste/.trieste/lib/python3.8/site-packages/tensorflow/python/keras/engine/input_spec.py?line=238'>239</a>\u001b[0m                      \u001b[39mstr\u001b[39m(\u001b[39mtuple\u001b[39m(shape)))\n\u001b[1;32m    <a href='file:///home/clinton/Documents/bse/masters_thesis/trieste/.trieste/lib/python3.8/site-packages/tensorflow/python/keras/engine/input_spec.py?line=239'>240</a>\u001b[0m \u001b[39m# Check dtype.\u001b[39;00m\n\u001b[1;32m    <a href='file:///home/clinton/Documents/bse/masters_thesis/trieste/.trieste/lib/python3.8/site-packages/tensorflow/python/keras/engine/input_spec.py?line=240'>241</a>\u001b[0m \u001b[39mif\u001b[39;00m spec\u001b[39m.\u001b[39mdtype \u001b[39mis\u001b[39;00m \u001b[39mnot\u001b[39;00m \u001b[39mNone\u001b[39;00m:\n",
      "\u001b[0;31mValueError\u001b[0m: Input 0 of layer dense_10 is incompatible with the layer: : expected min_ndim=2, found ndim=1. Full shape received: (100,)"
     ]
    }
   ],
   "source": [
    "model(tf.squeeze(data.observations))"
   ]
  },
  {
   "cell_type": "code",
   "execution_count": 104,
   "metadata": {},
   "outputs": [],
   "source": [
    "inputs, outputs = get_tensor_spec_from_data(data)\n",
    "d = DropConnectNetwork(inputs, outputs)\n"
   ]
  },
  {
   "cell_type": "code",
   "execution_count": 105,
   "metadata": {},
   "outputs": [
    {
     "data": {
      "text/plain": [
       "<tf.Tensor: shape=(100, 1), dtype=float64, numpy=\n",
       "array([[1.42320086e-03],\n",
       "       [3.24292517e+00],\n",
       "       [1.09422389e+00],\n",
       "       [1.88238044e+00],\n",
       "       [3.66670764e+00],\n",
       "       [3.67922092e+00],\n",
       "       [1.21081209e-01],\n",
       "       [1.43651863e+00],\n",
       "       [5.86602013e-01],\n",
       "       [1.73318926e+00],\n",
       "       [1.63992598e-02],\n",
       "       [3.59584263e+01],\n",
       "       [5.02251138e+01],\n",
       "       [5.41568491e+00],\n",
       "       [1.37096343e+00],\n",
       "       [8.29898353e+00],\n",
       "       [3.29393478e+00],\n",
       "       [8.22290147e-02],\n",
       "       [5.98209266e+00],\n",
       "       [5.62217215e+00],\n",
       "       [1.85441018e-01],\n",
       "       [4.44545763e-01],\n",
       "       [3.40385666e+00],\n",
       "       [4.47809142e-01],\n",
       "       [3.76070118e+00],\n",
       "       [5.12933870e-02],\n",
       "       [9.25062665e-01],\n",
       "       [3.92641436e+00],\n",
       "       [1.32678719e+00],\n",
       "       [2.63945282e+00],\n",
       "       [6.31394508e+01],\n",
       "       [4.81244067e-02],\n",
       "       [4.15347126e+01],\n",
       "       [6.03209819e+00],\n",
       "       [1.08177022e-01],\n",
       "       [3.30438916e+01],\n",
       "       [2.76192126e+00],\n",
       "       [2.64446160e+01],\n",
       "       [3.42960256e-01],\n",
       "       [3.88764139e+00],\n",
       "       [1.77321479e+00],\n",
       "       [4.53997332e-03],\n",
       "       [2.47489641e-01],\n",
       "       [1.75479595e+00],\n",
       "       [1.22621601e+01],\n",
       "       [7.33733623e-01],\n",
       "       [3.22365723e-01],\n",
       "       [3.07240785e+00],\n",
       "       [1.78939995e+01],\n",
       "       [1.35927559e+00],\n",
       "       [1.26855193e+01],\n",
       "       [1.70001225e+00],\n",
       "       [7.81744989e-03],\n",
       "       [5.87227121e-01],\n",
       "       [1.86359678e-01],\n",
       "       [5.76349083e+01],\n",
       "       [1.90117917e+01],\n",
       "       [1.82728808e-03],\n",
       "       [3.79107263e+01],\n",
       "       [1.42995049e-01],\n",
       "       [2.53744903e-01],\n",
       "       [1.30638406e-03],\n",
       "       [2.67996936e+01],\n",
       "       [4.49460316e-01],\n",
       "       [2.17245795e+01],\n",
       "       [1.91642268e+01],\n",
       "       [1.76690918e-01],\n",
       "       [4.09806098e-01],\n",
       "       [1.25095039e-03],\n",
       "       [9.93834759e+00],\n",
       "       [6.97477381e+00],\n",
       "       [2.97339225e+01],\n",
       "       [2.56507049e+00],\n",
       "       [6.68959052e+00],\n",
       "       [4.02850653e+00],\n",
       "       [3.65217041e+01],\n",
       "       [2.88040675e+01],\n",
       "       [2.20768210e+01],\n",
       "       [1.97195461e-03],\n",
       "       [4.25762938e-01],\n",
       "       [8.26670578e+00],\n",
       "       [7.57782415e-01],\n",
       "       [3.25779585e-01],\n",
       "       [1.86382988e-01],\n",
       "       [5.20090070e-01],\n",
       "       [4.60140637e-01],\n",
       "       [7.70316738e+00],\n",
       "       [1.56013730e+00],\n",
       "       [1.36536899e-01],\n",
       "       [4.19726505e+00],\n",
       "       [1.25959800e+00],\n",
       "       [1.26392620e+00],\n",
       "       [7.76989230e-01],\n",
       "       [7.79173118e-01],\n",
       "       [2.63342563e-01],\n",
       "       [1.02676316e+00],\n",
       "       [1.13297784e+01],\n",
       "       [1.24811654e+00],\n",
       "       [1.08951898e+00],\n",
       "       [3.48698639e-01]])>"
      ]
     },
     "execution_count": 105,
     "metadata": {},
     "output_type": "execute_result"
    }
   ],
   "source": [
    "d(data.observations)"
   ]
  },
  {
   "cell_type": "code",
   "execution_count": 106,
   "metadata": {},
   "outputs": [
    {
     "data": {
      "text/plain": [
       "(100, 1)"
      ]
     },
     "execution_count": 106,
     "metadata": {},
     "output_type": "execute_result"
    }
   ],
   "source": [
    "d.layers[0].layers[0].input_shape"
   ]
  },
  {
   "cell_type": "code",
   "execution_count": 107,
   "metadata": {},
   "outputs": [
    {
     "data": {
      "text/plain": [
       "TensorShape([1000])"
      ]
     },
     "execution_count": 107,
     "metadata": {},
     "output_type": "execute_result"
    }
   ],
   "source": [
    "test_points = tf.linspace(-6, 6, 1000)\n",
    "test_points.shape"
   ]
  },
  {
   "cell_type": "code",
   "execution_count": 108,
   "metadata": {},
   "outputs": [
    {
     "name": "stdout",
     "output_type": "stream",
     "text": [
      "Unexpected exception formatting exception. Falling back to standard exception\n"
     ]
    },
    {
     "name": "stderr",
     "output_type": "stream",
     "text": [
      "Traceback (most recent call last):\n",
      "  File \"/home/clinton/Documents/bse/masters_thesis/trieste/.trieste/lib/python3.8/site-packages/IPython/core/interactiveshell.py\", line 3369, in run_code\n",
      "    exec(code_obj, self.user_global_ns, self.user_ns)\n",
      "  File \"/tmp/ipykernel_1996382/783824523.py\", line 1, in <cell line: 1>\n",
      "    d(test_points)\n",
      "  File \"/home/clinton/Documents/bse/masters_thesis/trieste/.trieste/lib/python3.8/site-packages/tensorflow/python/keras/engine/base_layer.py\", line 1012, in __call__\n",
      "    outputs = call_fn(inputs, *args, **kwargs)\n",
      "  File \"/home/clinton/Documents/bse/masters_thesis/trieste/trieste/models/keras/architectures.py\", line 326, in call\n",
      "  File \"/home/clinton/Documents/bse/masters_thesis/trieste/.trieste/lib/python3.8/site-packages/tensorflow/python/keras/engine/base_layer.py\", line 998, in __call__\n",
      "    input_spec.assert_input_compatibility(self.input_spec, inputs, self.name)\n",
      "  File \"/home/clinton/Documents/bse/masters_thesis/trieste/.trieste/lib/python3.8/site-packages/tensorflow/python/keras/engine/input_spec.py\", line 234, in assert_input_compatibility\n",
      "    raise ValueError('Input ' + str(input_index) + ' of layer ' +\n",
      "ValueError: Input 0 of layer hidden_layers is incompatible with the layer: : expected min_ndim=2, found ndim=1. Full shape received: (1000,)\n",
      "\n",
      "During handling of the above exception, another exception occurred:\n",
      "\n",
      "Traceback (most recent call last):\n",
      "  File \"/home/clinton/Documents/bse/masters_thesis/trieste/.trieste/lib/python3.8/site-packages/IPython/core/interactiveshell.py\", line 1982, in showtraceback\n",
      "    stb = self.InteractiveTB.structured_traceback(\n",
      "  File \"/home/clinton/Documents/bse/masters_thesis/trieste/.trieste/lib/python3.8/site-packages/IPython/core/ultratb.py\", line 1118, in structured_traceback\n",
      "    return FormattedTB.structured_traceback(\n",
      "  File \"/home/clinton/Documents/bse/masters_thesis/trieste/.trieste/lib/python3.8/site-packages/IPython/core/ultratb.py\", line 1012, in structured_traceback\n",
      "    return VerboseTB.structured_traceback(\n",
      "  File \"/home/clinton/Documents/bse/masters_thesis/trieste/.trieste/lib/python3.8/site-packages/IPython/core/ultratb.py\", line 865, in structured_traceback\n",
      "    formatted_exception = self.format_exception_as_a_whole(etype, evalue, etb, number_of_lines_of_context,\n",
      "  File \"/home/clinton/Documents/bse/masters_thesis/trieste/.trieste/lib/python3.8/site-packages/IPython/core/ultratb.py\", line 818, in format_exception_as_a_whole\n",
      "    frames.append(self.format_record(r))\n",
      "  File \"/home/clinton/Documents/bse/masters_thesis/trieste/.trieste/lib/python3.8/site-packages/IPython/core/ultratb.py\", line 736, in format_record\n",
      "    result += ''.join(_format_traceback_lines(frame_info.lines, Colors, self.has_colors, lvals))\n",
      "  File \"/home/clinton/Documents/bse/masters_thesis/trieste/.trieste/lib/python3.8/site-packages/stack_data/utils.py\", line 145, in cached_property_wrapper\n",
      "    value = obj.__dict__[self.func.__name__] = self.func(obj)\n",
      "  File \"/home/clinton/Documents/bse/masters_thesis/trieste/.trieste/lib/python3.8/site-packages/stack_data/core.py\", line 698, in lines\n",
      "    pieces = self.included_pieces\n",
      "  File \"/home/clinton/Documents/bse/masters_thesis/trieste/.trieste/lib/python3.8/site-packages/stack_data/utils.py\", line 145, in cached_property_wrapper\n",
      "    value = obj.__dict__[self.func.__name__] = self.func(obj)\n",
      "  File \"/home/clinton/Documents/bse/masters_thesis/trieste/.trieste/lib/python3.8/site-packages/stack_data/core.py\", line 649, in included_pieces\n",
      "    pos = scope_pieces.index(self.executing_piece)\n",
      "  File \"/home/clinton/Documents/bse/masters_thesis/trieste/.trieste/lib/python3.8/site-packages/stack_data/utils.py\", line 145, in cached_property_wrapper\n",
      "    value = obj.__dict__[self.func.__name__] = self.func(obj)\n",
      "  File \"/home/clinton/Documents/bse/masters_thesis/trieste/.trieste/lib/python3.8/site-packages/stack_data/core.py\", line 628, in executing_piece\n",
      "    return only(\n",
      "  File \"/home/clinton/Documents/bse/masters_thesis/trieste/.trieste/lib/python3.8/site-packages/executing/executing.py\", line 164, in only\n",
      "    raise NotOneValueFound('Expected one value, found 0')\n",
      "executing.executing.NotOneValueFound: Expected one value, found 0\n"
     ]
    }
   ],
   "source": [
    "d(test_points)"
   ]
  },
  {
   "cell_type": "code",
   "execution_count": null,
   "metadata": {},
   "outputs": [],
   "source": []
  }
 ],
 "metadata": {
  "interpreter": {
   "hash": "ecf84af5378f4582a0ed437866ec88d9ccdcef13a5900d19490064dc4cfd3c42"
  },
  "kernelspec": {
   "display_name": "Python 3.8.10 ('.thesis')",
   "language": "python",
   "name": "python3"
  },
  "language_info": {
   "codemirror_mode": {
    "name": "ipython",
    "version": 3
   },
   "file_extension": ".py",
   "mimetype": "text/x-python",
   "name": "python",
   "nbconvert_exporter": "python",
   "pygments_lexer": "ipython3",
   "version": "3.8.10"
  },
  "orig_nbformat": 4
 },
 "nbformat": 4,
 "nbformat_minor": 2
}
