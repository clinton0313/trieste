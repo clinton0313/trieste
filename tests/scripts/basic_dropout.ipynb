{
 "cells": [
  {
   "cell_type": "code",
   "execution_count": 18,
   "metadata": {},
   "outputs": [],
   "source": [
    "import numpy as np\n",
    "import tensorflow as tf\n",
    "\n",
    "from tensorflow.keras import Model\n",
    "from tensorflow.keras.layers import Dense, Dropout\n",
    "from util.misc import empty_dataset\n",
    "from trieste.models.keras import DropConnect, DropConnectNetwork, DropoutNetwork, MCDropout, get_tensor_spec_from_data\n",
    "\n",
    "from trieste.objectives import (\n",
    "    BRANIN_MINIMIZERS,\n",
    "    BRANIN_SEARCH_SPACE,\n",
    "    SCALED_BRANIN_MINIMUM,\n",
    "    SIMPLE_QUADRATIC_MINIMIZER,\n",
    "    SIMPLE_QUADRATIC_MINIMUM,\n",
    "    SIMPLE_QUADRATIC_SEARCH_SPACE,\n",
    "    scaled_branin,\n",
    "    simple_quadratic,\n",
    ")\n",
    "\n",
    "from trieste.data import Dataset\n",
    "from trieste.space import Box\n",
    "from trieste.objectives.utils import mk_observer\n",
    "\n",
    "tf.get_logger().setLevel(\"ERROR\")\n",
    "tf.keras.backend.set_floatx(\"float64\")\n"
   ]
  },
  {
   "cell_type": "code",
   "execution_count": 30,
   "metadata": {},
   "outputs": [],
   "source": [
    "search_space = Box([-3., -3.], [3., 3.])\n",
    "inputs = search_space.sample(100)\n",
    "observer = mk_observer(scaled_branin)\n",
    "data = observer(inputs)"
   ]
  },
  {
   "cell_type": "code",
   "execution_count": 22,
   "metadata": {},
   "outputs": [
    {
     "data": {
      "text/plain": [
       "TensorShape([1, 2])"
      ]
     },
     "execution_count": 22,
     "metadata": {},
     "output_type": "execute_result"
    }
   ],
   "source": [
    "data.observations.shape\n",
    "dataset = empty_dataset([1,2], [1,1])\n",
    "inputs, outputs = get_tensor_spec_from_data(dataset)\n",
    "\n",
    "inputs.shape"
   ]
  },
  {
   "cell_type": "code",
   "execution_count": 11,
   "metadata": {},
   "outputs": [],
   "source": [
    "\n",
    "d = DropConnectNetwork(inputs, outputs)\n"
   ]
  },
  {
   "cell_type": "code",
   "execution_count": 23,
   "metadata": {},
   "outputs": [],
   "source": [
    "test_points = tf.linspace(-6, 6, 100)"
   ]
  },
  {
   "cell_type": "code",
   "execution_count": 24,
   "metadata": {},
   "outputs": [
    {
     "data": {
      "text/plain": [
       "(100, 1)"
      ]
     },
     "execution_count": 24,
     "metadata": {},
     "output_type": "execute_result"
    }
   ],
   "source": [
    "d.layers[0].layers[0].input_shape"
   ]
  },
  {
   "cell_type": "code",
   "execution_count": 25,
   "metadata": {},
   "outputs": [
    {
     "data": {
      "text/plain": [
       "True"
      ]
     },
     "execution_count": 25,
     "metadata": {},
     "output_type": "execute_result"
    }
   ],
   "source": [
    "d(test_points).shape == (100, 1)"
   ]
  },
  {
   "cell_type": "code",
   "execution_count": 27,
   "metadata": {},
   "outputs": [
    {
     "data": {
      "text/plain": [
       "<tf.Tensor: shape=(100, 1), dtype=float64, numpy=\n",
       "array([[-6.        ],\n",
       "       [-5.87878788],\n",
       "       [-5.75757576],\n",
       "       [-5.63636364],\n",
       "       [-5.51515152],\n",
       "       [-5.39393939],\n",
       "       [-5.27272727],\n",
       "       [-5.15151515],\n",
       "       [-5.03030303],\n",
       "       [-4.90909091],\n",
       "       [-4.78787879],\n",
       "       [-4.66666667],\n",
       "       [-4.54545455],\n",
       "       [-4.42424242],\n",
       "       [-4.3030303 ],\n",
       "       [-4.18181818],\n",
       "       [-4.06060606],\n",
       "       [-3.93939394],\n",
       "       [-3.81818182],\n",
       "       [-3.6969697 ],\n",
       "       [-3.57575758],\n",
       "       [-3.45454545],\n",
       "       [-3.33333333],\n",
       "       [-3.21212121],\n",
       "       [-3.09090909],\n",
       "       [-2.96969697],\n",
       "       [-2.84848485],\n",
       "       [-2.72727273],\n",
       "       [-2.60606061],\n",
       "       [-2.48484848],\n",
       "       [-2.36363636],\n",
       "       [-2.24242424],\n",
       "       [-2.12121212],\n",
       "       [-2.        ],\n",
       "       [-1.87878788],\n",
       "       [-1.75757576],\n",
       "       [-1.63636364],\n",
       "       [-1.51515152],\n",
       "       [-1.39393939],\n",
       "       [-1.27272727],\n",
       "       [-1.15151515],\n",
       "       [-1.03030303],\n",
       "       [-0.90909091],\n",
       "       [-0.78787879],\n",
       "       [-0.66666667],\n",
       "       [-0.54545455],\n",
       "       [-0.42424242],\n",
       "       [-0.3030303 ],\n",
       "       [-0.18181818],\n",
       "       [-0.06060606],\n",
       "       [ 0.06060606],\n",
       "       [ 0.18181818],\n",
       "       [ 0.3030303 ],\n",
       "       [ 0.42424242],\n",
       "       [ 0.54545455],\n",
       "       [ 0.66666667],\n",
       "       [ 0.78787879],\n",
       "       [ 0.90909091],\n",
       "       [ 1.03030303],\n",
       "       [ 1.15151515],\n",
       "       [ 1.27272727],\n",
       "       [ 1.39393939],\n",
       "       [ 1.51515152],\n",
       "       [ 1.63636364],\n",
       "       [ 1.75757576],\n",
       "       [ 1.87878788],\n",
       "       [ 2.        ],\n",
       "       [ 2.12121212],\n",
       "       [ 2.24242424],\n",
       "       [ 2.36363636],\n",
       "       [ 2.48484848],\n",
       "       [ 2.60606061],\n",
       "       [ 2.72727273],\n",
       "       [ 2.84848485],\n",
       "       [ 2.96969697],\n",
       "       [ 3.09090909],\n",
       "       [ 3.21212121],\n",
       "       [ 3.33333333],\n",
       "       [ 3.45454545],\n",
       "       [ 3.57575758],\n",
       "       [ 3.6969697 ],\n",
       "       [ 3.81818182],\n",
       "       [ 3.93939394],\n",
       "       [ 4.06060606],\n",
       "       [ 4.18181818],\n",
       "       [ 4.3030303 ],\n",
       "       [ 4.42424242],\n",
       "       [ 4.54545455],\n",
       "       [ 4.66666667],\n",
       "       [ 4.78787879],\n",
       "       [ 4.90909091],\n",
       "       [ 5.03030303],\n",
       "       [ 5.15151515],\n",
       "       [ 5.27272727],\n",
       "       [ 5.39393939],\n",
       "       [ 5.51515152],\n",
       "       [ 5.63636364],\n",
       "       [ 5.75757576],\n",
       "       [ 5.87878788],\n",
       "       [ 6.        ]])>"
      ]
     },
     "execution_count": 27,
     "metadata": {},
     "output_type": "execute_result"
    }
   ],
   "source": [
    "tf.expand_dims(test_points, axis = -1)"
   ]
  },
  {
   "cell_type": "code",
   "execution_count": null,
   "metadata": {},
   "outputs": [],
   "source": []
  }
 ],
 "metadata": {
  "interpreter": {
   "hash": "ecf84af5378f4582a0ed437866ec88d9ccdcef13a5900d19490064dc4cfd3c42"
  },
  "kernelspec": {
   "display_name": "Python 3.8.10 ('.thesis')",
   "language": "python",
   "name": "python3"
  },
  "language_info": {
   "codemirror_mode": {
    "name": "ipython",
    "version": 3
   },
   "file_extension": ".py",
   "mimetype": "text/x-python",
   "name": "python",
   "nbconvert_exporter": "python",
   "pygments_lexer": "ipython3",
   "version": "3.8.10"
  },
  "orig_nbformat": 4
 },
 "nbformat": 4,
 "nbformat_minor": 2
}
